{
 "cells": [
  {
   "cell_type": "markdown",
   "metadata": {},
   "source": [
    "# Дистрибутивная семантика"
   ]
  },
  {
   "cell_type": "markdown",
   "metadata": {},
   "source": [
    "### Установка библиотек"
   ]
  },
  {
   "cell_type": "code",
   "execution_count": null,
   "metadata": {
    "collapsed": true
   },
   "outputs": [],
   "source": [
    "!git clone https://github.com/jimmycallin/pydsm\n",
    "# или pip\n",
    "!pip3 install cython\n",
    "# Используйте sudo если возникает ошибка (или режим администратора в windows)\n",
    "# или python\n",
    "!python3 pydsm/setup.py install\n",
    "!pip3 install pyemd"
   ]
  },
  {
   "cell_type": "code",
   "execution_count": null,
   "metadata": {
    "collapsed": true
   },
   "outputs": [],
   "source": [
    "!pip3 install gensim"
   ]
  },
  {
   "cell_type": "markdown",
   "metadata": {},
   "source": [
    "### Скачиваем данные\n",
    "(для тех у кого linux), у кого windows скачайте файлы вручную и поместите в папку с проектом."
   ]
  },
  {
   "cell_type": "code",
   "execution_count": 3,
   "metadata": {
    "collapsed": true
   },
   "outputs": [
    {
     "name": "stdout",
     "output_type": "stream",
     "text": [
      "--2018-05-11 22:08:11--  https://www.dropbox.com/s/ksm21a8y6lgl511/all.txt.zip?dl=1\n",
      "Resolving www.dropbox.com (www.dropbox.com)... 162.125.66.1, 2620:100:6022:1::a27d:4201\n",
      "Connecting to www.dropbox.com (www.dropbox.com)|162.125.66.1|:443... connected.\n",
      "HTTP request sent, awaiting response... 302 Found\n",
      "Location: https://dl.dropboxusercontent.com/content_link/g8uSAbMr5KlMUaTu76uGx4soeKbGf5LEWBNxLSL9tHqSRIkwbzTAcrQMDIryrwwP/file?dl=1 [following]\n",
      "--2018-05-11 22:08:11--  https://dl.dropboxusercontent.com/content_link/g8uSAbMr5KlMUaTu76uGx4soeKbGf5LEWBNxLSL9tHqSRIkwbzTAcrQMDIryrwwP/file?dl=1\n",
      "Resolving dl.dropboxusercontent.com (dl.dropboxusercontent.com)... 162.125.66.6, 2620:100:6022:6::a27d:4206\n",
      "Connecting to dl.dropboxusercontent.com (dl.dropboxusercontent.com)|162.125.66.6|:443... connected.\n",
      "HTTP request sent, awaiting response... 200 OK\n",
      "Length: 50952701 (49M) [application/binary]\n",
      "Saving to: ‘all.txt.zip’\n",
      "\n",
      "all.txt.zip         100%[===================>]  48.59M  45.2MB/s    in 1.1s    \n",
      "\n",
      "2018-05-11 22:08:13 (45.2 MB/s) - ‘all.txt.zip’ saved [50952701/50952701]\n",
      "\n"
     ]
    }
   ],
   "source": [
    "!wget -O all.txt.zip \"https://www.dropbox.com/s/ksm21a8y6lgl511/all.txt.zip?dl=1\""
   ]
  },
  {
   "cell_type": "code",
   "execution_count": 4,
   "metadata": {
    "collapsed": true
   },
   "outputs": [
    {
     "name": "stdout",
     "output_type": "stream",
     "text": [
      "Archive:  all.txt.zip\n",
      "  inflating: all.txt                 \n"
     ]
    }
   ],
   "source": [
    "!unzip all.txt.zip"
   ]
  },
  {
   "cell_type": "code",
   "execution_count": 151,
   "metadata": {
    "collapsed": true
   },
   "outputs": [
    {
     "name": "stdout",
     "output_type": "stream",
     "text": [
      "--2018-05-12 08:10:32--  https://www.dropbox.com/s/0x7oxso6x93efzj/ru.tar.gz?dl=1\n",
      "Resolving www.dropbox.com (www.dropbox.com)... 162.125.66.1, 2620:100:6022:1::a27d:4201\n",
      "Connecting to www.dropbox.com (www.dropbox.com)|162.125.66.1|:443... connected.\n",
      "HTTP request sent, awaiting response... 302 Found\n",
      "Location: https://dl.dropboxusercontent.com/content_link/Z8bKoJr4bf2vnkGdkMuEbj5AyjhaBeEFGV7vyuc2S1kTrYJw1bkZn8uO187OO631/file?dl=1 [following]\n",
      "--2018-05-12 08:10:32--  https://dl.dropboxusercontent.com/content_link/Z8bKoJr4bf2vnkGdkMuEbj5AyjhaBeEFGV7vyuc2S1kTrYJw1bkZn8uO187OO631/file?dl=1\n",
      "Resolving dl.dropboxusercontent.com (dl.dropboxusercontent.com)... 162.125.66.6, 2620:100:6022:6::a27d:4206\n",
      "Connecting to dl.dropboxusercontent.com (dl.dropboxusercontent.com)|162.125.66.6|:443... connected.\n",
      "HTTP request sent, awaiting response... 200 OK\n",
      "Length: 2399456034 (2.2G) [application/binary]\n",
      "Saving to: ‘ru.tar.gz’\n",
      "\n",
      "ru.tar.gz           100%[===================>]   2.23G  28.9MB/s    in 81s     \n",
      "\n",
      "2018-05-12 08:11:55 (28.1 MB/s) - ‘ru.tar.gz’ saved [2399456034/2399456034]\n",
      "\n"
     ]
    }
   ],
   "source": [
    "!wget -O ru.tar.gz \"https://www.dropbox.com/s/0x7oxso6x93efzj/ru.tar.gz?dl=1\""
   ]
  },
  {
   "cell_type": "code",
   "execution_count": 152,
   "metadata": {
    "collapsed": false
   },
   "outputs": [
    {
     "name": "stdout",
     "output_type": "stream",
     "text": [
      "ru.bin\n",
      "ru.vec\n"
     ]
    }
   ],
   "source": [
    "!tar -xvzf ru.tar.gz"
   ]
  },
  {
   "cell_type": "markdown",
   "metadata": {},
   "source": [
    "## Анализ слов и контекстов"
   ]
  },
  {
   "cell_type": "code",
   "execution_count": 6,
   "metadata": {
    "collapsed": false
   },
   "outputs": [
    {
     "name": "stdout",
     "output_type": "stream",
     "text": [
      "Building matrix from corpus with config: {'window_size': (5, 5), 'language': 'ru'}. . . . . . . . . . . . . . . . . . . . . . . . . . . . . . . . . . . . . . . . . . . . . . . . . . . . . . . . . . . . . . . . . . . . . . . . . . . . . . . . . . . . . . . . . . . . . . . . . . . . . . . . . . . . . . . . . . . . . . . . . . . . . . . . . . . . . . . . . . . . . . . . . . . . . . . . . . . . . . . . . . . . . . . . . . . . . . . . . . . . . . . . . . . . . . . . . . . . . . . . . . . . . . . . . . . . . . . . . . . . . . . . . . . . . . . . . . . . . . . . . . . . . . . . . . . . . . . . . . . . . . . . . . . . . . . . . . . . . . . . . . . . . . . . . . . . . . . . . . . . . . . . . . . . . . . . . . . . . . . . . . . . . . . . . . . . . . . . . . . . . . . . . . . . . . . . . . . . . . . . . . . . . . . . . . . . . . . . . . . . . . . . . . . . . . . . . . . . . . . . . . . . . . . . . . . . . . . . . . . . . . . . . . . . . . . . . . . . . . . . . . . . . . . . . . . . . . . . . . . . . . . . . . . . . . . . . . . . . . . . . . . . . . . . . . . . . . . . . . . . . . . . . . . . . . . . . . . . . . . . . . . . . . . . . . . . . . . . . . . . . . . . . . . . . . . . . . . . . . . . . . . . . . . . . . . . . . . . . . . . . . . . . . . . . . . . . . . . . . . . . . . . . . . . . . . . . . . . . . . . . . . . . . . . . . . . . . . . . . . . . . . . . . . . . . . . . . . . . . . . . . . . . . . . . . . . . . . . . . . . . . . . . . . . . . . . . . . . . . . . . . . . . . . . . . . . . . . . . . . . . . . . . . . . . . . . . . . . . . . . . . . . . . . . . . . . . . . . . . . . . . . . . . . . . . . . . . . . . . . . . . . . . . . . . . . . . . . . . . . . . . . . . . . . . . . . . . . . . . . . . . . . . . . . . . . . . . . . . . . . . . . . . . . . . . . . . . . . . . . . . . . . . . . . . . . . . . . . . . . . . . . . . . . . . . . . . . . . . . . . . . . . . . . . . . . . . . . . . . . . . . . . . . . . . . . . . . . . . . . . . . . . . . . . . . . . . . . . . . . . . . . . . . . . . . . . . . . . . . . . . . . . . . . . . . . . . . . . . . . . . . . . . . . . . . . . . . . . . . . . . . . . . . . . . . . . . . . . . . . . . . . . . . . . . . . . . . . . . . . . . . . . . . . . . . . . . . . . . . . . . . . . . . . . . . . . . . . . . . . . . . . . . . . . . . . . . . . . . . . . . . . . . . . . . . . . . . . . . . . . . . . . . . . . . . . . . . . . . . . . . . . . . . . . . . . . . . . . . . . . . . . . . . . . . . . . . . . . . . . . . . . . . . . . . . . . . . . . . . . . . . . . . . . . . . . . . . . . . . . . . . . . . . . . . . . . . . . . . . . . . . . . . . . . . . . . . . . . . . . . . . . . . . . . . . . . . . . . . . . . . . . . . . . . . . . . . . . . . . . . . . . . . . . . . . . . . . . . . . . . . . . . . . . . . . . . . . . . . . . . . . . . . . . . . . . . . . . . . . . . . . . . . . . . . . . . . . . . . . . . . . . . . . . . . . . . . . . . . . . . . . . . . . . . . . . . . . . . . . . . . . . . . . . . . . . . . . . . . . . . . . . . . . . . . . . . . . . . . . . . . . . . . . . . . . . . . . . . . . . . . . . . . . . . . . . . . . . . . . . . . . . . . . . . . . . . . . . . . . . . . . . . . . . . . . . . . . . . . . . . . . . . . . . . . . . . . . . . . . . . . . . . . . . . . . . . . . . . . . . . . . . . . . . . . . . . . . . . . . . . . . . . . . . . . . . . . . . . . . . . . . . . . . . . . . . . . . . . . . . . . . . . . . . . . . . . . . . . . . . . . . . . . . . . . . . . . . . . . . . . . . . . . . . . . . . . . . . . . . . . . . . . . . . . . . . . . . . . . . . . . . . . . . . . . . . . . . . . . . . . . . . . . . . . . . . . . . . . . . . . . . . . . . . . . . . . . . . . . . . . . . . . . . . . . . . . . . . . . . . . . . . . . . . . . . . . . . . . . . . . . . . . . . . . . . . . . . . . . . . . . . . . . . . . . . . . . . . . . . . . . . . . . . . . . Total time of build: 69.81 sec\n",
      "\n"
     ]
    },
    {
     "data": {
      "text/plain": [
       "CooccurrenceDSM\n",
       "Vocab size: 450133\n",
       "[438531, 438531]  рафал  звзда  розеткадочь  ...\n",
       "рафал             0.00   0.00   0.00         ...\n",
       "звзда             0.00   0.00   0.00         ...\n",
       "нватое            0.00   0.00   0.00         ...\n",
       "...               ...    ...    ...          ..."
      ]
     },
     "execution_count": 6,
     "metadata": {},
     "output_type": "execute_result"
    }
   ],
   "source": [
    "import pydsm\n",
    "cooc = pydsm.build(pydsm.CooccurrenceDSM, corpus='all.txt', window_size=(5,5), language='ru')\n",
    "cooc"
   ]
  },
  {
   "cell_type": "markdown",
   "metadata": {},
   "source": [
    "### Задание 1\n",
    "Найдите ближайших соседей к слову \"ленин\":\n",
    "\n",
    "* по матрице совстречаемости $M$ с сырыми частотами (используйте cooc.nearest_neighbors и similarity.cos)\n",
    "* по матрице совстречаемости $M_1$ после PPMI преобразования Используйте косинусную меру близости (используйте cooc.apply_weighting и pydsm.weighting.ppmi)."
   ]
  },
  {
   "cell_type": "code",
   "execution_count": null,
   "metadata": {
    "collapsed": true
   },
   "outputs": [],
   "source": [
    "import pydsm.similarity as similarity"
   ]
  },
  {
   "cell_type": "code",
   "execution_count": 29,
   "metadata": {
    "collapsed": false,
    "scrolled": true
   },
   "outputs": [
    {
     "name": "stdout",
     "output_type": "stream",
     "text": [
      "Total time of nearest_neighbors: 3.22 sec\n"
     ]
    },
    {
     "data": {
      "text/plain": [
       "[438531, 1]  ленин\n",
       "ленин        1.00\n",
       "товарищ      0.67\n",
       "сталин       0.63\n",
       "памятник     0.62\n",
       "гитлер       0.60\n",
       "троцки       0.58\n",
       "россия       0.57\n",
       "народ        0.57\n",
       "таки         0.57\n",
       "гриб         0.56\n",
       "...          ..."
      ]
     },
     "execution_count": 29,
     "metadata": {},
     "output_type": "execute_result"
    }
   ],
   "source": [
    "<your code here>"
   ]
  },
  {
   "cell_type": "markdown",
   "metadata": {},
   "source": [
    "Вычислите матрицу ppmi"
   ]
  },
  {
   "cell_type": "code",
   "execution_count": null,
   "metadata": {
    "collapsed": true
   },
   "outputs": [],
   "source": [
    "import pydsm.weighting as weighting"
   ]
  },
  {
   "cell_type": "code",
   "execution_count": 30,
   "metadata": {
    "collapsed": false
   },
   "outputs": [
    {
     "name": "stdout",
     "output_type": "stream",
     "text": [
      "Total time of apply_weighting: 10.09 sec\n"
     ]
    },
    {
     "data": {
      "text/plain": [
       "CooccurrenceDSM\n",
       "Vocab size: 450133\n",
       "[438531, 438531]  рафал  звзда  розеткадочь  ...\n",
       "рафал             0.00   0.00   0.00         ...\n",
       "звзда             0.00   0.00   0.00         ...\n",
       "нватое            0.00   0.00   0.00         ...\n",
       "...               ...    ...    ...          ..."
      ]
     },
     "execution_count": 30,
     "metadata": {},
     "output_type": "execute_result"
    }
   ],
   "source": [
    "ppmi = <your code here>"
   ]
  },
  {
   "cell_type": "markdown",
   "metadata": {},
   "source": [
    "Получите ближайшие слова"
   ]
  },
  {
   "cell_type": "code",
   "execution_count": 31,
   "metadata": {
    "collapsed": false
   },
   "outputs": [
    {
     "name": "stdout",
     "output_type": "stream",
     "text": [
      "Total time of nearest_neighbors: 3.23 sec\n"
     ]
    },
    {
     "data": {
      "text/plain": [
       "[438531, 1]  ленин\n",
       "ленин        1.00\n",
       "сталин       0.11\n",
       "отобгать     0.11\n",
       "кагтавость   0.10\n",
       "бугжуев      0.10\n",
       "фабгика      0.10\n",
       "ильич        0.10\n",
       "большевик    0.09\n",
       "площадь      0.09\n",
       "памятник     0.09\n",
       "...          ..."
      ]
     },
     "execution_count": 31,
     "metadata": {},
     "output_type": "execute_result"
    }
   ],
   "source": []
  },
  {
   "cell_type": "markdown",
   "metadata": {},
   "source": [
    "### Задание 2\n",
    "\n",
    "Примените к матрице $M_1$ сингулярное преобразование: $M_1 = U \\Sigma V^T$. Снизьте размерность до $k$. Найдите ближайших соседей к слову \"ленин\":\n",
    "\n",
    "* по матрице $U_k $\n",
    "* по матрице $U_k \\times \\Sigma$\n",
    "* по матрице $U_k \\times \\sqrt{\\Sigma}$"
   ]
  },
  {
   "cell_type": "code",
   "execution_count": 36,
   "metadata": {
    "collapsed": true
   },
   "outputs": [],
   "source": [
    "from pydsm import IndexMatrix\n",
    "mat = ppmi.matrix\n",
    "mat_svd = ppmi.matrix.svd(300)"
   ]
  },
  {
   "cell_type": "code",
   "execution_count": 37,
   "metadata": {
    "collapsed": false
   },
   "outputs": [
    {
     "data": {
      "text/plain": [
       "((438531, 300), (1, 300), (300, 438531))"
      ]
     },
     "execution_count": 37,
     "metadata": {},
     "output_type": "execute_result"
    }
   ],
   "source": [
    "mat_svd[0].shape, mat_svd[1].shape, mat_svd[2].shape"
   ]
  },
  {
   "cell_type": "code",
   "execution_count": 38,
   "metadata": {
    "collapsed": false
   },
   "outputs": [
    {
     "data": {
      "text/plain": [
       "CooccurrenceDSM\n",
       "Vocab size: 450133\n",
       "[438531, 300]  299    298   297    ...\n",
       "рафал          -0.00  0.00  -0.00  ...\n",
       "звзда          -0.00  0.00  -0.00  ...\n",
       "нватое         -0.00  0.00  -0.00  ...\n",
       "...            ...    ...   ...    ..."
      ]
     },
     "execution_count": 38,
     "metadata": {},
     "output_type": "execute_result"
    }
   ],
   "source": [
    "svd_ppmi = pydsm.CooccurrenceDSM()\n",
    "svd_ppmi.matrix = mat_svd[0]\n",
    "svd_ppmi.vocabulary = ppmi.vocabulary\n",
    "svd_ppmi"
   ]
  },
  {
   "cell_type": "markdown",
   "metadata": {},
   "source": [
    "Получите ближайшиех соседей"
   ]
  },
  {
   "cell_type": "code",
   "execution_count": 39,
   "metadata": {
    "collapsed": false
   },
   "outputs": [
    {
     "name": "stdout",
     "output_type": "stream",
     "text": [
      "Total time of nearest_neighbors: 6.86 sec\n"
     ]
    },
    {
     "data": {
      "text/plain": [
       "[438531, 1]     ленин\n",
       "ленин           1.00\n",
       "подвоск         0.87\n",
       "сведлов         0.84\n",
       "произведний     0.84\n",
       "экзорцирование  0.77\n",
       "элияович        0.76\n",
       "порозо          0.75\n",
       "сталин          0.74\n",
       "кгом            0.74\n",
       "цытатко         0.73\n",
       "...             ..."
      ]
     },
     "execution_count": 39,
     "metadata": {},
     "output_type": "execute_result"
    }
   ],
   "source": [
    "svd_ppmi.nearest_neighbors('ленин', sim_func=similarity.cos)"
   ]
  },
  {
   "cell_type": "code",
   "execution_count": 40,
   "metadata": {
    "collapsed": false
   },
   "outputs": [
    {
     "data": {
      "text/plain": [
       "CooccurrenceDSM\n",
       "Vocab size: 450133\n",
       "[438531, 300]  299    298   297    ...\n",
       "рафал          -0.44  0.23  -0.59  ...\n",
       "звзда          -0.45  0.18  -0.49  ...\n",
       "нватое         -0.09  0.07  -0.14  ...\n",
       "...            ...    ...   ...    ..."
      ]
     },
     "execution_count": 40,
     "metadata": {},
     "output_type": "execute_result"
    }
   ],
   "source": [
    "svd_ppmi = pydsm.CooccurrenceDSM()\n",
    "svd_ppmi.matrix = mat_svd[0].multiply(mat_svd[1])\n",
    "svd_ppmi.vocabulary = ppmi.vocabulary\n",
    "svd_ppmi"
   ]
  },
  {
   "cell_type": "markdown",
   "metadata": {},
   "source": [
    "Получите ближайшиех соседей"
   ]
  },
  {
   "cell_type": "code",
   "execution_count": 41,
   "metadata": {
    "collapsed": false
   },
   "outputs": [
    {
     "name": "stdout",
     "output_type": "stream",
     "text": [
      "Total time of nearest_neighbors: 11.93 sec\n"
     ]
    },
    {
     "data": {
      "text/plain": [
       "[438531, 1]  ленин\n",
       "ленин        1.00\n",
       "ильич        0.83\n",
       "сталин       0.83\n",
       "брежнев      0.82\n",
       "памятник     0.81\n",
       "хрущев       0.80\n",
       "большевик    0.80\n",
       "троцки       0.79\n",
       "троцкий      0.77\n",
       "коммунизм    0.76\n",
       "...          ..."
      ]
     },
     "execution_count": 41,
     "metadata": {},
     "output_type": "execute_result"
    }
   ],
   "source": [
    "svd_ppmi.nearest_neighbors('ленин', sim_func=similarity.cos)"
   ]
  },
  {
   "cell_type": "code",
   "execution_count": 42,
   "metadata": {
    "collapsed": false
   },
   "outputs": [
    {
     "data": {
      "text/plain": [
       "CooccurrenceDSM\n",
       "Vocab size: 450133\n",
       "[438531, 300]  299    298   297    ...\n",
       "рафал          -0.01  0.01  -0.02  ...\n",
       "звзда          -0.01  0.01  -0.02  ...\n",
       "нватое         -0.00  0.00  -0.00  ...\n",
       "...            ...    ...   ...    ..."
      ]
     },
     "execution_count": 42,
     "metadata": {},
     "output_type": "execute_result"
    }
   ],
   "source": [
    "svd_ppmi = pydsm.CooccurrenceDSM()\n",
    "svd_ppmi.matrix = mat_svd[0].multiply(mat_svd[1].sqrt())\n",
    "svd_ppmi.vocabulary = ppmi.vocabulary\n",
    "svd_ppmi"
   ]
  },
  {
   "cell_type": "markdown",
   "metadata": {},
   "source": [
    "Получите ближайшиех соседей"
   ]
  },
  {
   "cell_type": "code",
   "execution_count": 43,
   "metadata": {
    "collapsed": false
   },
   "outputs": [
    {
     "name": "stdout",
     "output_type": "stream",
     "text": [
      "Total time of nearest_neighbors: 12.13 sec\n"
     ]
    },
    {
     "data": {
      "text/plain": [
       "[438531, 1]     ленин\n",
       "ленин           1.00\n",
       "подвоск         0.85\n",
       "сведлов         0.83\n",
       "произведний     0.81\n",
       "экзорцирование  0.76\n",
       "сталин          0.76\n",
       "элияович        0.76\n",
       "порозо          0.74\n",
       "ильич           0.74\n",
       "брежнев         0.73\n",
       "...             ..."
      ]
     },
     "execution_count": 43,
     "metadata": {},
     "output_type": "execute_result"
    }
   ],
   "source": [
    "svd_ppmi.nearest_neighbors('ленин', sim_func=similarity.cos)"
   ]
  },
  {
   "cell_type": "markdown",
   "metadata": {},
   "source": [
    "### Задание 3\n",
    "Используйте word2vec и найдите ближайших соседей к слову \"ленин\". Сравните их с полученными ближайшими соседями на предыдущем шаге."
   ]
  },
  {
   "cell_type": "code",
   "execution_count": 44,
   "metadata": {
    "collapsed": true
   },
   "outputs": [],
   "source": [
    "with open(\"all.txt\") as f:\n",
    "    lines = f.readlines()"
   ]
  },
  {
   "cell_type": "code",
   "execution_count": 45,
   "metadata": {
    "collapsed": true
   },
   "outputs": [],
   "source": [
    "from gensim.models import *\n",
    "\n",
    "\n",
    "model = Word2Vec([line.split() for line in lines], size=300, window=5, min_count=5, workers=4)"
   ]
  },
  {
   "cell_type": "code",
   "execution_count": 46,
   "metadata": {
    "collapsed": false
   },
   "outputs": [
    {
     "data": {
      "text/plain": [
       "[('троцкий', 0.6953479051589966),\n",
       " ('карл', 0.6702953577041626),\n",
       " ('брежнев', 0.6690712571144104),\n",
       " ('троцки', 0.6662994623184204),\n",
       " ('берия', 0.6609545946121216),\n",
       " ('энгельс', 0.6584701538085938),\n",
       " ('иосиф', 0.639130711555481),\n",
       " ('ильич', 0.6387829780578613),\n",
       " ('мавзолей', 0.6345731019973755),\n",
       " ('памятник', 0.6335980296134949)]"
      ]
     },
     "execution_count": 46,
     "metadata": {},
     "output_type": "execute_result"
    }
   ],
   "source": [
    "model.wv.most_similar('ленин')"
   ]
  },
  {
   "cell_type": "markdown",
   "metadata": {},
   "source": [
    "### Задание 4\n",
    "\n",
    "Рассмотрите другие размеры окна: 2 или 10. Как изменяются ближайшие соседи?"
   ]
  },
  {
   "cell_type": "code",
   "execution_count": null,
   "metadata": {
    "collapsed": true
   },
   "outputs": [],
   "source": [
    "<your code here>"
   ]
  },
  {
   "cell_type": "markdown",
   "metadata": {},
   "source": [
    "### Задание 5\n",
    "\n",
    "\n",
    "Сделайте снижение размерности в 2-мерное пространство с помощью t-SNE из ста случайных слов из дата сета. Покажите на графике также соседей слов Ленин и Сталин и покажите на графике."
   ]
  },
  {
   "cell_type": "code",
   "execution_count": 49,
   "metadata": {
    "collapsed": true
   },
   "outputs": [],
   "source": [
    "from sklearn.manifold import TSNE\n",
    "from sklearn.feature_extraction.text import *\n",
    "\n",
    "%matplotlib notebook\n",
    "import numpy as np\n",
    "import matplotlib.pyplot as plt"
   ]
  },
  {
   "cell_type": "code",
   "execution_count": 146,
   "metadata": {
    "collapsed": true
   },
   "outputs": [],
   "source": [
    "words = list(np.random.choice([w for w in model.wv.vocab], 50))"
   ]
  },
  {
   "cell_type": "code",
   "execution_count": 147,
   "metadata": {
    "collapsed": true
   },
   "outputs": [],
   "source": [
    "def display_closestwords_tsnescatterplot(model, words, target_words=[\"ленин\", \"сталин\"]):\n",
    "\n",
    "    arr = np.empty((0, 300), dtype='f')\n",
    "    # Сформируйте список слов и их векторов (также создайте список для цветов каждых точек)\n",
    "    <your code here>\n",
    "    \n",
    "    # tsne координаты в двумерном пространстве\n",
    "    <your code here>\n",
    "    \n",
    "    # Покажем на графике\n",
    "    x_coords = Y[:, 0]\n",
    "    y_coords = Y[:, 1]\n",
    "    # display scatter plot\n",
    "    plt.figure(figsize=(12, 7))\n",
    "    plt.scatter(x_coords, y_coords, c=np.array(target_colors))\n",
    "\n",
    "    for label, x, y in zip(words, x_coords, y_coords):\n",
    "        plt.annotate(label, xy=(x, y), xytext=(0, 0), textcoords='offset points')\n",
    "    # plt.xlim(x_coords.min()+0.00005, x_coords.max()+0.00005)\n",
    "    # plt.ylim(y_coords.min()+0.00005, y_coords.max()+0.00005)\n",
    "    plt.grid(True)\n",
    "    plt.show()"
   ]
  },
  {
   "cell_type": "code",
   "execution_count": 148,
   "metadata": {
    "collapsed": false
   },
   "outputs": [
    {
     "name": "stderr",
     "output_type": "stream",
     "text": [
      "/home/ec/.local/lib/python3.5/site-packages/ipykernel_launcher.py:5: DeprecationWarning: Call to deprecated `similar_by_word` (Method will be removed in 4.0.0, use self.wv.similar_by_word() instead).\n",
      "  \"\"\"\n",
      "/home/ec/.local/lib/python3.5/site-packages/ipykernel_launcher.py:17: DeprecationWarning: Call to deprecated `__getitem__` (Method will be removed in 4.0.0, use self.wv.__getitem__() instead).\n"
     ]
    },
    {
     "data": {
      "application/javascript": [
       "/* Put everything inside the global mpl namespace */\n",
       "window.mpl = {};\n",
       "\n",
       "\n",
       "mpl.get_websocket_type = function() {\n",
       "    if (typeof(WebSocket) !== 'undefined') {\n",
       "        return WebSocket;\n",
       "    } else if (typeof(MozWebSocket) !== 'undefined') {\n",
       "        return MozWebSocket;\n",
       "    } else {\n",
       "        alert('Your browser does not have WebSocket support.' +\n",
       "              'Please try Chrome, Safari or Firefox ≥ 6. ' +\n",
       "              'Firefox 4 and 5 are also supported but you ' +\n",
       "              'have to enable WebSockets in about:config.');\n",
       "    };\n",
       "}\n",
       "\n",
       "mpl.figure = function(figure_id, websocket, ondownload, parent_element) {\n",
       "    this.id = figure_id;\n",
       "\n",
       "    this.ws = websocket;\n",
       "\n",
       "    this.supports_binary = (this.ws.binaryType != undefined);\n",
       "\n",
       "    if (!this.supports_binary) {\n",
       "        var warnings = document.getElementById(\"mpl-warnings\");\n",
       "        if (warnings) {\n",
       "            warnings.style.display = 'block';\n",
       "            warnings.textContent = (\n",
       "                \"This browser does not support binary websocket messages. \" +\n",
       "                    \"Performance may be slow.\");\n",
       "        }\n",
       "    }\n",
       "\n",
       "    this.imageObj = new Image();\n",
       "\n",
       "    this.context = undefined;\n",
       "    this.message = undefined;\n",
       "    this.canvas = undefined;\n",
       "    this.rubberband_canvas = undefined;\n",
       "    this.rubberband_context = undefined;\n",
       "    this.format_dropdown = undefined;\n",
       "\n",
       "    this.image_mode = 'full';\n",
       "\n",
       "    this.root = $('<div/>');\n",
       "    this._root_extra_style(this.root)\n",
       "    this.root.attr('style', 'display: inline-block');\n",
       "\n",
       "    $(parent_element).append(this.root);\n",
       "\n",
       "    this._init_header(this);\n",
       "    this._init_canvas(this);\n",
       "    this._init_toolbar(this);\n",
       "\n",
       "    var fig = this;\n",
       "\n",
       "    this.waiting = false;\n",
       "\n",
       "    this.ws.onopen =  function () {\n",
       "            fig.send_message(\"supports_binary\", {value: fig.supports_binary});\n",
       "            fig.send_message(\"send_image_mode\", {});\n",
       "            if (mpl.ratio != 1) {\n",
       "                fig.send_message(\"set_dpi_ratio\", {'dpi_ratio': mpl.ratio});\n",
       "            }\n",
       "            fig.send_message(\"refresh\", {});\n",
       "        }\n",
       "\n",
       "    this.imageObj.onload = function() {\n",
       "            if (fig.image_mode == 'full') {\n",
       "                // Full images could contain transparency (where diff images\n",
       "                // almost always do), so we need to clear the canvas so that\n",
       "                // there is no ghosting.\n",
       "                fig.context.clearRect(0, 0, fig.canvas.width, fig.canvas.height);\n",
       "            }\n",
       "            fig.context.drawImage(fig.imageObj, 0, 0);\n",
       "        };\n",
       "\n",
       "    this.imageObj.onunload = function() {\n",
       "        fig.ws.close();\n",
       "    }\n",
       "\n",
       "    this.ws.onmessage = this._make_on_message_function(this);\n",
       "\n",
       "    this.ondownload = ondownload;\n",
       "}\n",
       "\n",
       "mpl.figure.prototype._init_header = function() {\n",
       "    var titlebar = $(\n",
       "        '<div class=\"ui-dialog-titlebar ui-widget-header ui-corner-all ' +\n",
       "        'ui-helper-clearfix\"/>');\n",
       "    var titletext = $(\n",
       "        '<div class=\"ui-dialog-title\" style=\"width: 100%; ' +\n",
       "        'text-align: center; padding: 3px;\"/>');\n",
       "    titlebar.append(titletext)\n",
       "    this.root.append(titlebar);\n",
       "    this.header = titletext[0];\n",
       "}\n",
       "\n",
       "\n",
       "\n",
       "mpl.figure.prototype._canvas_extra_style = function(canvas_div) {\n",
       "\n",
       "}\n",
       "\n",
       "\n",
       "mpl.figure.prototype._root_extra_style = function(canvas_div) {\n",
       "\n",
       "}\n",
       "\n",
       "mpl.figure.prototype._init_canvas = function() {\n",
       "    var fig = this;\n",
       "\n",
       "    var canvas_div = $('<div/>');\n",
       "\n",
       "    canvas_div.attr('style', 'position: relative; clear: both; outline: 0');\n",
       "\n",
       "    function canvas_keyboard_event(event) {\n",
       "        return fig.key_event(event, event['data']);\n",
       "    }\n",
       "\n",
       "    canvas_div.keydown('key_press', canvas_keyboard_event);\n",
       "    canvas_div.keyup('key_release', canvas_keyboard_event);\n",
       "    this.canvas_div = canvas_div\n",
       "    this._canvas_extra_style(canvas_div)\n",
       "    this.root.append(canvas_div);\n",
       "\n",
       "    var canvas = $('<canvas/>');\n",
       "    canvas.addClass('mpl-canvas');\n",
       "    canvas.attr('style', \"left: 0; top: 0; z-index: 0; outline: 0\")\n",
       "\n",
       "    this.canvas = canvas[0];\n",
       "    this.context = canvas[0].getContext(\"2d\");\n",
       "\n",
       "    var backingStore = this.context.backingStorePixelRatio ||\n",
       "\tthis.context.webkitBackingStorePixelRatio ||\n",
       "\tthis.context.mozBackingStorePixelRatio ||\n",
       "\tthis.context.msBackingStorePixelRatio ||\n",
       "\tthis.context.oBackingStorePixelRatio ||\n",
       "\tthis.context.backingStorePixelRatio || 1;\n",
       "\n",
       "    mpl.ratio = (window.devicePixelRatio || 1) / backingStore;\n",
       "\n",
       "    var rubberband = $('<canvas/>');\n",
       "    rubberband.attr('style', \"position: absolute; left: 0; top: 0; z-index: 1;\")\n",
       "\n",
       "    var pass_mouse_events = true;\n",
       "\n",
       "    canvas_div.resizable({\n",
       "        start: function(event, ui) {\n",
       "            pass_mouse_events = false;\n",
       "        },\n",
       "        resize: function(event, ui) {\n",
       "            fig.request_resize(ui.size.width, ui.size.height);\n",
       "        },\n",
       "        stop: function(event, ui) {\n",
       "            pass_mouse_events = true;\n",
       "            fig.request_resize(ui.size.width, ui.size.height);\n",
       "        },\n",
       "    });\n",
       "\n",
       "    function mouse_event_fn(event) {\n",
       "        if (pass_mouse_events)\n",
       "            return fig.mouse_event(event, event['data']);\n",
       "    }\n",
       "\n",
       "    rubberband.mousedown('button_press', mouse_event_fn);\n",
       "    rubberband.mouseup('button_release', mouse_event_fn);\n",
       "    // Throttle sequential mouse events to 1 every 20ms.\n",
       "    rubberband.mousemove('motion_notify', mouse_event_fn);\n",
       "\n",
       "    rubberband.mouseenter('figure_enter', mouse_event_fn);\n",
       "    rubberband.mouseleave('figure_leave', mouse_event_fn);\n",
       "\n",
       "    canvas_div.on(\"wheel\", function (event) {\n",
       "        event = event.originalEvent;\n",
       "        event['data'] = 'scroll'\n",
       "        if (event.deltaY < 0) {\n",
       "            event.step = 1;\n",
       "        } else {\n",
       "            event.step = -1;\n",
       "        }\n",
       "        mouse_event_fn(event);\n",
       "    });\n",
       "\n",
       "    canvas_div.append(canvas);\n",
       "    canvas_div.append(rubberband);\n",
       "\n",
       "    this.rubberband = rubberband;\n",
       "    this.rubberband_canvas = rubberband[0];\n",
       "    this.rubberband_context = rubberband[0].getContext(\"2d\");\n",
       "    this.rubberband_context.strokeStyle = \"#000000\";\n",
       "\n",
       "    this._resize_canvas = function(width, height) {\n",
       "        // Keep the size of the canvas, canvas container, and rubber band\n",
       "        // canvas in synch.\n",
       "        canvas_div.css('width', width)\n",
       "        canvas_div.css('height', height)\n",
       "\n",
       "        canvas.attr('width', width * mpl.ratio);\n",
       "        canvas.attr('height', height * mpl.ratio);\n",
       "        canvas.attr('style', 'width: ' + width + 'px; height: ' + height + 'px;');\n",
       "\n",
       "        rubberband.attr('width', width);\n",
       "        rubberband.attr('height', height);\n",
       "    }\n",
       "\n",
       "    // Set the figure to an initial 600x600px, this will subsequently be updated\n",
       "    // upon first draw.\n",
       "    this._resize_canvas(600, 600);\n",
       "\n",
       "    // Disable right mouse context menu.\n",
       "    $(this.rubberband_canvas).bind(\"contextmenu\",function(e){\n",
       "        return false;\n",
       "    });\n",
       "\n",
       "    function set_focus () {\n",
       "        canvas.focus();\n",
       "        canvas_div.focus();\n",
       "    }\n",
       "\n",
       "    window.setTimeout(set_focus, 100);\n",
       "}\n",
       "\n",
       "mpl.figure.prototype._init_toolbar = function() {\n",
       "    var fig = this;\n",
       "\n",
       "    var nav_element = $('<div/>')\n",
       "    nav_element.attr('style', 'width: 100%');\n",
       "    this.root.append(nav_element);\n",
       "\n",
       "    // Define a callback function for later on.\n",
       "    function toolbar_event(event) {\n",
       "        return fig.toolbar_button_onclick(event['data']);\n",
       "    }\n",
       "    function toolbar_mouse_event(event) {\n",
       "        return fig.toolbar_button_onmouseover(event['data']);\n",
       "    }\n",
       "\n",
       "    for(var toolbar_ind in mpl.toolbar_items) {\n",
       "        var name = mpl.toolbar_items[toolbar_ind][0];\n",
       "        var tooltip = mpl.toolbar_items[toolbar_ind][1];\n",
       "        var image = mpl.toolbar_items[toolbar_ind][2];\n",
       "        var method_name = mpl.toolbar_items[toolbar_ind][3];\n",
       "\n",
       "        if (!name) {\n",
       "            // put a spacer in here.\n",
       "            continue;\n",
       "        }\n",
       "        var button = $('<button/>');\n",
       "        button.addClass('ui-button ui-widget ui-state-default ui-corner-all ' +\n",
       "                        'ui-button-icon-only');\n",
       "        button.attr('role', 'button');\n",
       "        button.attr('aria-disabled', 'false');\n",
       "        button.click(method_name, toolbar_event);\n",
       "        button.mouseover(tooltip, toolbar_mouse_event);\n",
       "\n",
       "        var icon_img = $('<span/>');\n",
       "        icon_img.addClass('ui-button-icon-primary ui-icon');\n",
       "        icon_img.addClass(image);\n",
       "        icon_img.addClass('ui-corner-all');\n",
       "\n",
       "        var tooltip_span = $('<span/>');\n",
       "        tooltip_span.addClass('ui-button-text');\n",
       "        tooltip_span.html(tooltip);\n",
       "\n",
       "        button.append(icon_img);\n",
       "        button.append(tooltip_span);\n",
       "\n",
       "        nav_element.append(button);\n",
       "    }\n",
       "\n",
       "    var fmt_picker_span = $('<span/>');\n",
       "\n",
       "    var fmt_picker = $('<select/>');\n",
       "    fmt_picker.addClass('mpl-toolbar-option ui-widget ui-widget-content');\n",
       "    fmt_picker_span.append(fmt_picker);\n",
       "    nav_element.append(fmt_picker_span);\n",
       "    this.format_dropdown = fmt_picker[0];\n",
       "\n",
       "    for (var ind in mpl.extensions) {\n",
       "        var fmt = mpl.extensions[ind];\n",
       "        var option = $(\n",
       "            '<option/>', {selected: fmt === mpl.default_extension}).html(fmt);\n",
       "        fmt_picker.append(option)\n",
       "    }\n",
       "\n",
       "    // Add hover states to the ui-buttons\n",
       "    $( \".ui-button\" ).hover(\n",
       "        function() { $(this).addClass(\"ui-state-hover\");},\n",
       "        function() { $(this).removeClass(\"ui-state-hover\");}\n",
       "    );\n",
       "\n",
       "    var status_bar = $('<span class=\"mpl-message\"/>');\n",
       "    nav_element.append(status_bar);\n",
       "    this.message = status_bar[0];\n",
       "}\n",
       "\n",
       "mpl.figure.prototype.request_resize = function(x_pixels, y_pixels) {\n",
       "    // Request matplotlib to resize the figure. Matplotlib will then trigger a resize in the client,\n",
       "    // which will in turn request a refresh of the image.\n",
       "    this.send_message('resize', {'width': x_pixels, 'height': y_pixels});\n",
       "}\n",
       "\n",
       "mpl.figure.prototype.send_message = function(type, properties) {\n",
       "    properties['type'] = type;\n",
       "    properties['figure_id'] = this.id;\n",
       "    this.ws.send(JSON.stringify(properties));\n",
       "}\n",
       "\n",
       "mpl.figure.prototype.send_draw_message = function() {\n",
       "    if (!this.waiting) {\n",
       "        this.waiting = true;\n",
       "        this.ws.send(JSON.stringify({type: \"draw\", figure_id: this.id}));\n",
       "    }\n",
       "}\n",
       "\n",
       "\n",
       "mpl.figure.prototype.handle_save = function(fig, msg) {\n",
       "    var format_dropdown = fig.format_dropdown;\n",
       "    var format = format_dropdown.options[format_dropdown.selectedIndex].value;\n",
       "    fig.ondownload(fig, format);\n",
       "}\n",
       "\n",
       "\n",
       "mpl.figure.prototype.handle_resize = function(fig, msg) {\n",
       "    var size = msg['size'];\n",
       "    if (size[0] != fig.canvas.width || size[1] != fig.canvas.height) {\n",
       "        fig._resize_canvas(size[0], size[1]);\n",
       "        fig.send_message(\"refresh\", {});\n",
       "    };\n",
       "}\n",
       "\n",
       "mpl.figure.prototype.handle_rubberband = function(fig, msg) {\n",
       "    var x0 = msg['x0'] / mpl.ratio;\n",
       "    var y0 = (fig.canvas.height - msg['y0']) / mpl.ratio;\n",
       "    var x1 = msg['x1'] / mpl.ratio;\n",
       "    var y1 = (fig.canvas.height - msg['y1']) / mpl.ratio;\n",
       "    x0 = Math.floor(x0) + 0.5;\n",
       "    y0 = Math.floor(y0) + 0.5;\n",
       "    x1 = Math.floor(x1) + 0.5;\n",
       "    y1 = Math.floor(y1) + 0.5;\n",
       "    var min_x = Math.min(x0, x1);\n",
       "    var min_y = Math.min(y0, y1);\n",
       "    var width = Math.abs(x1 - x0);\n",
       "    var height = Math.abs(y1 - y0);\n",
       "\n",
       "    fig.rubberband_context.clearRect(\n",
       "        0, 0, fig.canvas.width, fig.canvas.height);\n",
       "\n",
       "    fig.rubberband_context.strokeRect(min_x, min_y, width, height);\n",
       "}\n",
       "\n",
       "mpl.figure.prototype.handle_figure_label = function(fig, msg) {\n",
       "    // Updates the figure title.\n",
       "    fig.header.textContent = msg['label'];\n",
       "}\n",
       "\n",
       "mpl.figure.prototype.handle_cursor = function(fig, msg) {\n",
       "    var cursor = msg['cursor'];\n",
       "    switch(cursor)\n",
       "    {\n",
       "    case 0:\n",
       "        cursor = 'pointer';\n",
       "        break;\n",
       "    case 1:\n",
       "        cursor = 'default';\n",
       "        break;\n",
       "    case 2:\n",
       "        cursor = 'crosshair';\n",
       "        break;\n",
       "    case 3:\n",
       "        cursor = 'move';\n",
       "        break;\n",
       "    }\n",
       "    fig.rubberband_canvas.style.cursor = cursor;\n",
       "}\n",
       "\n",
       "mpl.figure.prototype.handle_message = function(fig, msg) {\n",
       "    fig.message.textContent = msg['message'];\n",
       "}\n",
       "\n",
       "mpl.figure.prototype.handle_draw = function(fig, msg) {\n",
       "    // Request the server to send over a new figure.\n",
       "    fig.send_draw_message();\n",
       "}\n",
       "\n",
       "mpl.figure.prototype.handle_image_mode = function(fig, msg) {\n",
       "    fig.image_mode = msg['mode'];\n",
       "}\n",
       "\n",
       "mpl.figure.prototype.updated_canvas_event = function() {\n",
       "    // Called whenever the canvas gets updated.\n",
       "    this.send_message(\"ack\", {});\n",
       "}\n",
       "\n",
       "// A function to construct a web socket function for onmessage handling.\n",
       "// Called in the figure constructor.\n",
       "mpl.figure.prototype._make_on_message_function = function(fig) {\n",
       "    return function socket_on_message(evt) {\n",
       "        if (evt.data instanceof Blob) {\n",
       "            /* FIXME: We get \"Resource interpreted as Image but\n",
       "             * transferred with MIME type text/plain:\" errors on\n",
       "             * Chrome.  But how to set the MIME type?  It doesn't seem\n",
       "             * to be part of the websocket stream */\n",
       "            evt.data.type = \"image/png\";\n",
       "\n",
       "            /* Free the memory for the previous frames */\n",
       "            if (fig.imageObj.src) {\n",
       "                (window.URL || window.webkitURL).revokeObjectURL(\n",
       "                    fig.imageObj.src);\n",
       "            }\n",
       "\n",
       "            fig.imageObj.src = (window.URL || window.webkitURL).createObjectURL(\n",
       "                evt.data);\n",
       "            fig.updated_canvas_event();\n",
       "            fig.waiting = false;\n",
       "            return;\n",
       "        }\n",
       "        else if (typeof evt.data === 'string' && evt.data.slice(0, 21) == \"data:image/png;base64\") {\n",
       "            fig.imageObj.src = evt.data;\n",
       "            fig.updated_canvas_event();\n",
       "            fig.waiting = false;\n",
       "            return;\n",
       "        }\n",
       "\n",
       "        var msg = JSON.parse(evt.data);\n",
       "        var msg_type = msg['type'];\n",
       "\n",
       "        // Call the  \"handle_{type}\" callback, which takes\n",
       "        // the figure and JSON message as its only arguments.\n",
       "        try {\n",
       "            var callback = fig[\"handle_\" + msg_type];\n",
       "        } catch (e) {\n",
       "            console.log(\"No handler for the '\" + msg_type + \"' message type: \", msg);\n",
       "            return;\n",
       "        }\n",
       "\n",
       "        if (callback) {\n",
       "            try {\n",
       "                // console.log(\"Handling '\" + msg_type + \"' message: \", msg);\n",
       "                callback(fig, msg);\n",
       "            } catch (e) {\n",
       "                console.log(\"Exception inside the 'handler_\" + msg_type + \"' callback:\", e, e.stack, msg);\n",
       "            }\n",
       "        }\n",
       "    };\n",
       "}\n",
       "\n",
       "// from http://stackoverflow.com/questions/1114465/getting-mouse-location-in-canvas\n",
       "mpl.findpos = function(e) {\n",
       "    //this section is from http://www.quirksmode.org/js/events_properties.html\n",
       "    var targ;\n",
       "    if (!e)\n",
       "        e = window.event;\n",
       "    if (e.target)\n",
       "        targ = e.target;\n",
       "    else if (e.srcElement)\n",
       "        targ = e.srcElement;\n",
       "    if (targ.nodeType == 3) // defeat Safari bug\n",
       "        targ = targ.parentNode;\n",
       "\n",
       "    // jQuery normalizes the pageX and pageY\n",
       "    // pageX,Y are the mouse positions relative to the document\n",
       "    // offset() returns the position of the element relative to the document\n",
       "    var x = e.pageX - $(targ).offset().left;\n",
       "    var y = e.pageY - $(targ).offset().top;\n",
       "\n",
       "    return {\"x\": x, \"y\": y};\n",
       "};\n",
       "\n",
       "/*\n",
       " * return a copy of an object with only non-object keys\n",
       " * we need this to avoid circular references\n",
       " * http://stackoverflow.com/a/24161582/3208463\n",
       " */\n",
       "function simpleKeys (original) {\n",
       "  return Object.keys(original).reduce(function (obj, key) {\n",
       "    if (typeof original[key] !== 'object')\n",
       "        obj[key] = original[key]\n",
       "    return obj;\n",
       "  }, {});\n",
       "}\n",
       "\n",
       "mpl.figure.prototype.mouse_event = function(event, name) {\n",
       "    var canvas_pos = mpl.findpos(event)\n",
       "\n",
       "    if (name === 'button_press')\n",
       "    {\n",
       "        this.canvas.focus();\n",
       "        this.canvas_div.focus();\n",
       "    }\n",
       "\n",
       "    var x = canvas_pos.x * mpl.ratio;\n",
       "    var y = canvas_pos.y * mpl.ratio;\n",
       "\n",
       "    this.send_message(name, {x: x, y: y, button: event.button,\n",
       "                             step: event.step,\n",
       "                             guiEvent: simpleKeys(event)});\n",
       "\n",
       "    /* This prevents the web browser from automatically changing to\n",
       "     * the text insertion cursor when the button is pressed.  We want\n",
       "     * to control all of the cursor setting manually through the\n",
       "     * 'cursor' event from matplotlib */\n",
       "    event.preventDefault();\n",
       "    return false;\n",
       "}\n",
       "\n",
       "mpl.figure.prototype._key_event_extra = function(event, name) {\n",
       "    // Handle any extra behaviour associated with a key event\n",
       "}\n",
       "\n",
       "mpl.figure.prototype.key_event = function(event, name) {\n",
       "\n",
       "    // Prevent repeat events\n",
       "    if (name == 'key_press')\n",
       "    {\n",
       "        if (event.which === this._key)\n",
       "            return;\n",
       "        else\n",
       "            this._key = event.which;\n",
       "    }\n",
       "    if (name == 'key_release')\n",
       "        this._key = null;\n",
       "\n",
       "    var value = '';\n",
       "    if (event.ctrlKey && event.which != 17)\n",
       "        value += \"ctrl+\";\n",
       "    if (event.altKey && event.which != 18)\n",
       "        value += \"alt+\";\n",
       "    if (event.shiftKey && event.which != 16)\n",
       "        value += \"shift+\";\n",
       "\n",
       "    value += 'k';\n",
       "    value += event.which.toString();\n",
       "\n",
       "    this._key_event_extra(event, name);\n",
       "\n",
       "    this.send_message(name, {key: value,\n",
       "                             guiEvent: simpleKeys(event)});\n",
       "    return false;\n",
       "}\n",
       "\n",
       "mpl.figure.prototype.toolbar_button_onclick = function(name) {\n",
       "    if (name == 'download') {\n",
       "        this.handle_save(this, null);\n",
       "    } else {\n",
       "        this.send_message(\"toolbar_button\", {name: name});\n",
       "    }\n",
       "};\n",
       "\n",
       "mpl.figure.prototype.toolbar_button_onmouseover = function(tooltip) {\n",
       "    this.message.textContent = tooltip;\n",
       "};\n",
       "mpl.toolbar_items = [[\"Home\", \"Reset original view\", \"fa fa-home icon-home\", \"home\"], [\"Back\", \"Back to  previous view\", \"fa fa-arrow-left icon-arrow-left\", \"back\"], [\"Forward\", \"Forward to next view\", \"fa fa-arrow-right icon-arrow-right\", \"forward\"], [\"\", \"\", \"\", \"\"], [\"Pan\", \"Pan axes with left mouse, zoom with right\", \"fa fa-arrows icon-move\", \"pan\"], [\"Zoom\", \"Zoom to rectangle\", \"fa fa-square-o icon-check-empty\", \"zoom\"], [\"\", \"\", \"\", \"\"], [\"Download\", \"Download plot\", \"fa fa-floppy-o icon-save\", \"download\"]];\n",
       "\n",
       "mpl.extensions = [\"eps\", \"jpeg\", \"pdf\", \"png\", \"ps\", \"raw\", \"svg\", \"tif\"];\n",
       "\n",
       "mpl.default_extension = \"png\";var comm_websocket_adapter = function(comm) {\n",
       "    // Create a \"websocket\"-like object which calls the given IPython comm\n",
       "    // object with the appropriate methods. Currently this is a non binary\n",
       "    // socket, so there is still some room for performance tuning.\n",
       "    var ws = {};\n",
       "\n",
       "    ws.close = function() {\n",
       "        comm.close()\n",
       "    };\n",
       "    ws.send = function(m) {\n",
       "        //console.log('sending', m);\n",
       "        comm.send(m);\n",
       "    };\n",
       "    // Register the callback with on_msg.\n",
       "    comm.on_msg(function(msg) {\n",
       "        //console.log('receiving', msg['content']['data'], msg);\n",
       "        // Pass the mpl event to the overriden (by mpl) onmessage function.\n",
       "        ws.onmessage(msg['content']['data'])\n",
       "    });\n",
       "    return ws;\n",
       "}\n",
       "\n",
       "mpl.mpl_figure_comm = function(comm, msg) {\n",
       "    // This is the function which gets called when the mpl process\n",
       "    // starts-up an IPython Comm through the \"matplotlib\" channel.\n",
       "\n",
       "    var id = msg.content.data.id;\n",
       "    // Get hold of the div created by the display call when the Comm\n",
       "    // socket was opened in Python.\n",
       "    var element = $(\"#\" + id);\n",
       "    var ws_proxy = comm_websocket_adapter(comm)\n",
       "\n",
       "    function ondownload(figure, format) {\n",
       "        window.open(figure.imageObj.src);\n",
       "    }\n",
       "\n",
       "    var fig = new mpl.figure(id, ws_proxy,\n",
       "                           ondownload,\n",
       "                           element.get(0));\n",
       "\n",
       "    // Call onopen now - mpl needs it, as it is assuming we've passed it a real\n",
       "    // web socket which is closed, not our websocket->open comm proxy.\n",
       "    ws_proxy.onopen();\n",
       "\n",
       "    fig.parent_element = element.get(0);\n",
       "    fig.cell_info = mpl.find_output_cell(\"<div id='\" + id + \"'></div>\");\n",
       "    if (!fig.cell_info) {\n",
       "        console.error(\"Failed to find cell for figure\", id, fig);\n",
       "        return;\n",
       "    }\n",
       "\n",
       "    var output_index = fig.cell_info[2]\n",
       "    var cell = fig.cell_info[0];\n",
       "\n",
       "};\n",
       "\n",
       "mpl.figure.prototype.handle_close = function(fig, msg) {\n",
       "    var width = fig.canvas.width/mpl.ratio\n",
       "    fig.root.unbind('remove')\n",
       "\n",
       "    // Update the output cell to use the data from the current canvas.\n",
       "    fig.push_to_output();\n",
       "    var dataURL = fig.canvas.toDataURL();\n",
       "    // Re-enable the keyboard manager in IPython - without this line, in FF,\n",
       "    // the notebook keyboard shortcuts fail.\n",
       "    IPython.keyboard_manager.enable()\n",
       "    $(fig.parent_element).html('<img src=\"' + dataURL + '\" width=\"' + width + '\">');\n",
       "    fig.close_ws(fig, msg);\n",
       "}\n",
       "\n",
       "mpl.figure.prototype.close_ws = function(fig, msg){\n",
       "    fig.send_message('closing', msg);\n",
       "    // fig.ws.close()\n",
       "}\n",
       "\n",
       "mpl.figure.prototype.push_to_output = function(remove_interactive) {\n",
       "    // Turn the data on the canvas into data in the output cell.\n",
       "    var width = this.canvas.width/mpl.ratio\n",
       "    var dataURL = this.canvas.toDataURL();\n",
       "    this.cell_info[1]['text/html'] = '<img src=\"' + dataURL + '\" width=\"' + width + '\">';\n",
       "}\n",
       "\n",
       "mpl.figure.prototype.updated_canvas_event = function() {\n",
       "    // Tell IPython that the notebook contents must change.\n",
       "    IPython.notebook.set_dirty(true);\n",
       "    this.send_message(\"ack\", {});\n",
       "    var fig = this;\n",
       "    // Wait a second, then push the new image to the DOM so\n",
       "    // that it is saved nicely (might be nice to debounce this).\n",
       "    setTimeout(function () { fig.push_to_output() }, 1000);\n",
       "}\n",
       "\n",
       "mpl.figure.prototype._init_toolbar = function() {\n",
       "    var fig = this;\n",
       "\n",
       "    var nav_element = $('<div/>')\n",
       "    nav_element.attr('style', 'width: 100%');\n",
       "    this.root.append(nav_element);\n",
       "\n",
       "    // Define a callback function for later on.\n",
       "    function toolbar_event(event) {\n",
       "        return fig.toolbar_button_onclick(event['data']);\n",
       "    }\n",
       "    function toolbar_mouse_event(event) {\n",
       "        return fig.toolbar_button_onmouseover(event['data']);\n",
       "    }\n",
       "\n",
       "    for(var toolbar_ind in mpl.toolbar_items){\n",
       "        var name = mpl.toolbar_items[toolbar_ind][0];\n",
       "        var tooltip = mpl.toolbar_items[toolbar_ind][1];\n",
       "        var image = mpl.toolbar_items[toolbar_ind][2];\n",
       "        var method_name = mpl.toolbar_items[toolbar_ind][3];\n",
       "\n",
       "        if (!name) { continue; };\n",
       "\n",
       "        var button = $('<button class=\"btn btn-default\" href=\"#\" title=\"' + name + '\"><i class=\"fa ' + image + ' fa-lg\"></i></button>');\n",
       "        button.click(method_name, toolbar_event);\n",
       "        button.mouseover(tooltip, toolbar_mouse_event);\n",
       "        nav_element.append(button);\n",
       "    }\n",
       "\n",
       "    // Add the status bar.\n",
       "    var status_bar = $('<span class=\"mpl-message\" style=\"text-align:right; float: right;\"/>');\n",
       "    nav_element.append(status_bar);\n",
       "    this.message = status_bar[0];\n",
       "\n",
       "    // Add the close button to the window.\n",
       "    var buttongrp = $('<div class=\"btn-group inline pull-right\"></div>');\n",
       "    var button = $('<button class=\"btn btn-mini btn-primary\" href=\"#\" title=\"Stop Interaction\"><i class=\"fa fa-power-off icon-remove icon-large\"></i></button>');\n",
       "    button.click(function (evt) { fig.handle_close(fig, {}); } );\n",
       "    button.mouseover('Stop Interaction', toolbar_mouse_event);\n",
       "    buttongrp.append(button);\n",
       "    var titlebar = this.root.find($('.ui-dialog-titlebar'));\n",
       "    titlebar.prepend(buttongrp);\n",
       "}\n",
       "\n",
       "mpl.figure.prototype._root_extra_style = function(el){\n",
       "    var fig = this\n",
       "    el.on(\"remove\", function(){\n",
       "\tfig.close_ws(fig, {});\n",
       "    });\n",
       "}\n",
       "\n",
       "mpl.figure.prototype._canvas_extra_style = function(el){\n",
       "    // this is important to make the div 'focusable\n",
       "    el.attr('tabindex', 0)\n",
       "    // reach out to IPython and tell the keyboard manager to turn it's self\n",
       "    // off when our div gets focus\n",
       "\n",
       "    // location in version 3\n",
       "    if (IPython.notebook.keyboard_manager) {\n",
       "        IPython.notebook.keyboard_manager.register_events(el);\n",
       "    }\n",
       "    else {\n",
       "        // location in version 2\n",
       "        IPython.keyboard_manager.register_events(el);\n",
       "    }\n",
       "\n",
       "}\n",
       "\n",
       "mpl.figure.prototype._key_event_extra = function(event, name) {\n",
       "    var manager = IPython.notebook.keyboard_manager;\n",
       "    if (!manager)\n",
       "        manager = IPython.keyboard_manager;\n",
       "\n",
       "    // Check for shift+enter\n",
       "    if (event.shiftKey && event.which == 13) {\n",
       "        this.canvas_div.blur();\n",
       "        event.shiftKey = false;\n",
       "        // Send a \"J\" for go to next cell\n",
       "        event.which = 74;\n",
       "        event.keyCode = 74;\n",
       "        manager.command_mode();\n",
       "        manager.handle_keydown(event);\n",
       "    }\n",
       "}\n",
       "\n",
       "mpl.figure.prototype.handle_save = function(fig, msg) {\n",
       "    fig.ondownload(fig, null);\n",
       "}\n",
       "\n",
       "\n",
       "mpl.find_output_cell = function(html_output) {\n",
       "    // Return the cell and output element which can be found *uniquely* in the notebook.\n",
       "    // Note - this is a bit hacky, but it is done because the \"notebook_saving.Notebook\"\n",
       "    // IPython event is triggered only after the cells have been serialised, which for\n",
       "    // our purposes (turning an active figure into a static one), is too late.\n",
       "    var cells = IPython.notebook.get_cells();\n",
       "    var ncells = cells.length;\n",
       "    for (var i=0; i<ncells; i++) {\n",
       "        var cell = cells[i];\n",
       "        if (cell.cell_type === 'code'){\n",
       "            for (var j=0; j<cell.output_area.outputs.length; j++) {\n",
       "                var data = cell.output_area.outputs[j];\n",
       "                if (data.data) {\n",
       "                    // IPython >= 3 moved mimebundle to data attribute of output\n",
       "                    data = data.data;\n",
       "                }\n",
       "                if (data['text/html'] == html_output) {\n",
       "                    return [cell, data, j];\n",
       "                }\n",
       "            }\n",
       "        }\n",
       "    }\n",
       "}\n",
       "\n",
       "// Register the function which deals with the matplotlib target/channel.\n",
       "// The kernel may be null if the page has been refreshed.\n",
       "if (IPython.notebook.kernel != null) {\n",
       "    IPython.notebook.kernel.comm_manager.register_target('matplotlib', mpl.mpl_figure_comm);\n",
       "}\n"
      ],
      "text/plain": [
       "<IPython.core.display.Javascript object>"
      ]
     },
     "metadata": {},
     "output_type": "display_data"
    },
    {
     "data": {
      "text/html": [
       "<img src=\"data:image/png;base64,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\" width=\"1200\">"
      ],
      "text/plain": [
       "<IPython.core.display.HTML object>"
      ]
     },
     "metadata": {},
     "output_type": "display_data"
    }
   ],
   "source": [
    "display_closestwords_tsnescatterplot(model, words, [\"сталин\", \"ленин\"])"
   ]
  },
  {
   "cell_type": "markdown",
   "metadata": {},
   "source": [
    "## Анализ предложений"
   ]
  },
  {
   "cell_type": "markdown",
   "metadata": {},
   "source": [
    "### Word Mover's Distance\n",
    "#### по статье Matthew J. Kusner'а \"From Word Embeddings to Document Distances\" [1]\n",
    "\n",
    "<img src=\"https://camo.githubusercontent.com/a15d483ec194469a9bea650fed26bf891b07ae94/68747470733a2f2f7261772e67697468756275736572636f6e74656e742e636f6d2f6d6b75736e65722f776d642f6d61737465722f666967312e706e67\">\n",
    "\n",
    "### Формулировка задачи определения сходства между двумя предложениями как задачи транспортной задачи:\n",
    "\n",
    "Пусть $X \\in \\mathbb{R}^{d \\times n}$ – матрица эмбеддингов,\n",
    "\n",
    "$d$ – размерность эмбеддинга, $n$ - количество слов;\n",
    "\n",
    "Вектор-документ в векторной модели: $d \\in \\mathbb{R}^n$ состоит из $c_i = \\texttt{count}(word_i, doc)$\n",
    "\n",
    "Нормированный вектор-документ: $d_i = \\frac{c_i}{\\sum_i c_i}$\n",
    "\n",
    "Расстояние между словами: $\\texttt{cost}(word_i, word_j) = ||x_i - x_j||_2$\n",
    "\n",
    "Дано два документа, $d, d'$. Пусть  $T \\in \\mathbb{R}^{n \\times n}$, $T_{ij} \\ge 0$ – матрица потока показывает расстояния от каждого слова $d$ до $d'$.\n",
    "\n",
    "Транспортная задача:\n",
    "\n",
    "$\\min_{T \\ge 0} \\sum_{i,j}^n T_{ij}\\texttt{cost}(word_i, word_j) $\n",
    "\n",
    "при условии:\n",
    "\n",
    "$\\sum_{j} T_{ij} = d_i$\n",
    "\n",
    "$\\sum_{i} T_{ij} = d'_j$.\n",
    "\n",
    "Задача решается средствами линейного программирования."
   ]
  },
  {
   "cell_type": "code",
   "execution_count": 153,
   "metadata": {
    "collapsed": true
   },
   "outputs": [],
   "source": [
    "from gensim.models import *\n",
    "\n",
    "model = KeyedVectors.load_word2vec_format('ru.vec', binary=False)"
   ]
  },
  {
   "cell_type": "code",
   "execution_count": 159,
   "metadata": {
    "collapsed": false
   },
   "outputs": [
    {
     "name": "stdout",
     "output_type": "stream",
     "text": [
      "distance between s1 and s2 = 1.3363\n",
      "distance between s1 and s3 = 2.5128\n",
      "distance between s2 and s3 = 2.5454\n"
     ]
    }
   ],
   "source": [
    "s1 = 'Ученые обнаружили ископаемую ящерицу с парой теменных глаз'\n",
    "s2 = 'У палеогеновой ящерицы нашли вторую пару глаз'\n",
    "s3 = 'Apple через два года откажется от процессоров Intel'\n",
    "\n",
    "distance = model.wmdistance(s1, s2)\n",
    "print ('distance between s1 and s2 = %.4f' % distance)\n",
    "\n",
    "distance = model.wmdistance(s1, s3)\n",
    "print ('distance between s1 and s3 = %.4f' % distance)\n",
    "\n",
    "distance = model.wmdistance(s2, s3)\n",
    "print ('distance between s2 and s3 = %.4f' % distance)"
   ]
  },
  {
   "cell_type": "code",
   "execution_count": 160,
   "metadata": {
    "collapsed": true
   },
   "outputs": [],
   "source": [
    "model.init_sims(replace=True)"
   ]
  },
  {
   "cell_type": "code",
   "execution_count": 161,
   "metadata": {
    "collapsed": false
   },
   "outputs": [
    {
     "name": "stdout",
     "output_type": "stream",
     "text": [
      "distance between s1 and s2 = 0.3252\n",
      "distance between s1 and s3 = 0.5703\n",
      "distance between s2 and s3 = 0.5574\n"
     ]
    }
   ],
   "source": [
    "distance = model.wmdistance(s1, s2)\n",
    "print ('distance between s1 and s2 = %.4f' % distance)\n",
    "\n",
    "distance = model.wmdistance(s1, s3)\n",
    "print ('distance between s1 and s3 = %.4f' % distance)\n",
    "\n",
    "distance = model.wmdistance(s2, s3)\n",
    "print ('distance between s2 and s3 = %.4f' % distance)"
   ]
  }
 ],
 "metadata": {
  "kernelspec": {
   "display_name": "Python 3",
   "language": "python",
   "name": "python3"
  },
  "language_info": {
   "codemirror_mode": {
    "name": "ipython",
    "version": 3
   },
   "file_extension": ".py",
   "mimetype": "text/x-python",
   "name": "python",
   "nbconvert_exporter": "python",
   "pygments_lexer": "ipython3",
   "version": "3.6.0"
  }
 },
 "nbformat": 4,
 "nbformat_minor": 2
}
