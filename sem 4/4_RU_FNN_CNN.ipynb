{
 "cells": [
  {
   "cell_type": "markdown",
   "metadata": {
    "slideshow": {
     "slide_type": "slide"
    }
   },
   "source": [
    "# Классификация текстов"
   ]
  },
  {
   "cell_type": "code",
   "execution_count": 1,
   "metadata": {
    "slideshow": {
     "slide_type": "slide"
    }
   },
   "outputs": [
    {
     "name": "stderr",
     "output_type": "stream",
     "text": [
      "/usr/local/lib/python3.5/dist-packages/h5py/__init__.py:36: FutureWarning: Conversion of the second argument of issubdtype from `float` to `np.floating` is deprecated. In future, it will be treated as `np.float64 == np.dtype(float).type`.\n",
      "  from ._conv import register_converters as _register_converters\n",
      "Using TensorFlow backend.\n"
     ]
    }
   ],
   "source": [
    "from keras.preprocessing.text import Tokenizer\n",
    "from keras.preprocessing.sequence import pad_sequences\n",
    "from keras.utils import np_utils\n",
    "from sklearn.preprocessing import LabelBinarizer, LabelEncoder\n",
    "\n",
    "from keras.layers import Embedding, Input, Conv1D, MaxPooling1D, Flatten, Dense, Dropout\n",
    "from keras.models import Model, Sequential\n",
    "\n",
    "import pandas as pd\n",
    "import numpy as np\n",
    "\n",
    "import seaborn as sns\n",
    "\n",
    "import matplotlib.pyplot as plt\n",
    "\n",
    "import random\n",
    "random.seed(1228)\n",
    "\n",
    "from sklearn.metrics import precision_score, recall_score, accuracy_score, classification_report, confusion_matrix\n",
    "\n",
    "%matplotlib inline"
   ]
  },
  {
   "cell_type": "code",
   "execution_count": 2,
   "metadata": {
    "slideshow": {
     "slide_type": "subslide"
    }
   },
   "outputs": [],
   "source": [
    "data = pd.read_csv(\"articles_lemmatized_noSW.csv\", index_col=\"Unnamed: 0\")\n",
    "data = data[data.topic.isin((\"Культура\", \"Общество\", \"Политика\", \"Экономика\", \"Спорт\"))] \n",
    "train_corpus = pd.DataFrame(columns=data.columns)\n",
    "test_corpus = pd.DataFrame(columns=data.columns)\n",
    "\n",
    "for topic in data.topic.unique():\n",
    "    corpus_sample = data[data.topic==topic].sample(110)\n",
    "    train_corpus = train_corpus.append(corpus_sample.iloc[:100, :])\n",
    "    test_corpus = test_corpus.append(corpus_sample.iloc[100:, :])"
   ]
  },
  {
   "cell_type": "code",
   "execution_count": 3,
   "metadata": {},
   "outputs": [
    {
     "data": {
      "text/html": [
       "<div>\n",
       "<style scoped>\n",
       "    .dataframe tbody tr th:only-of-type {\n",
       "        vertical-align: middle;\n",
       "    }\n",
       "\n",
       "    .dataframe tbody tr th {\n",
       "        vertical-align: top;\n",
       "    }\n",
       "\n",
       "    .dataframe thead th {\n",
       "        text-align: right;\n",
       "    }\n",
       "</style>\n",
       "<table border=\"1\" class=\"dataframe\">\n",
       "  <thead>\n",
       "    <tr style=\"text-align: right;\">\n",
       "      <th></th>\n",
       "      <th>headline</th>\n",
       "      <th>body</th>\n",
       "      <th>topic</th>\n",
       "    </tr>\n",
       "  </thead>\n",
       "  <tbody>\n",
       "    <tr>\n",
       "      <th>44908</th>\n",
       "      <td>Российские кинокартины не будут претендовать н...</td>\n",
       "      <td>номинация хороший фильм иностранный язык попад...</td>\n",
       "      <td>Культура</td>\n",
       "    </tr>\n",
       "    <tr>\n",
       "      <th>30711</th>\n",
       "      <td>Владимир Гусев: кризис ударил и по мне</td>\n",
       "      <td>обозреватель известие пообщаться директор русс...</td>\n",
       "      <td>Культура</td>\n",
       "    </tr>\n",
       "    <tr>\n",
       "      <th>15990</th>\n",
       "      <td>«Аутисты — такие же зрители, как и остальные»</td>\n",
       "      <td>первый россия кинозал человек расстройство аут...</td>\n",
       "      <td>Культура</td>\n",
       "    </tr>\n",
       "    <tr>\n",
       "      <th>18281</th>\n",
       "      <td>Вахтанговцы вновь покажут «Евгения Онегина» в ...</td>\n",
       "      <td>режиссер московский театр римас туминас получа...</td>\n",
       "      <td>Культура</td>\n",
       "    </tr>\n",
       "    <tr>\n",
       "      <th>4666</th>\n",
       "      <td>Наталья Крачковская хотела, чтобы в последний ...</td>\n",
       "      <td>прощание знаменитый киноактриса состояться мар...</td>\n",
       "      <td>Культура</td>\n",
       "    </tr>\n",
       "  </tbody>\n",
       "</table>\n",
       "</div>"
      ],
      "text/plain": [
       "                                                headline  \\\n",
       "44908  Российские кинокартины не будут претендовать н...   \n",
       "30711             Владимир Гусев: кризис ударил и по мне   \n",
       "15990      «Аутисты — такие же зрители, как и остальные»   \n",
       "18281  Вахтанговцы вновь покажут «Евгения Онегина» в ...   \n",
       "4666   Наталья Крачковская хотела, чтобы в последний ...   \n",
       "\n",
       "                                                    body     topic  \n",
       "44908  номинация хороший фильм иностранный язык попад...  Культура  \n",
       "30711  обозреватель известие пообщаться директор русс...  Культура  \n",
       "15990  первый россия кинозал человек расстройство аут...  Культура  \n",
       "18281  режиссер московский театр римас туминас получа...  Культура  \n",
       "4666   прощание знаменитый киноактриса состояться мар...  Культура  "
      ]
     },
     "execution_count": 3,
     "metadata": {},
     "output_type": "execute_result"
    }
   ],
   "source": [
    "data.head()"
   ]
  },
  {
   "cell_type": "code",
   "execution_count": 4,
   "metadata": {
    "slideshow": {
     "slide_type": "slide"
    }
   },
   "outputs": [],
   "source": [
    "TEXT_LENGTH = 1800\n",
    "VOCABULARY_SIZE = 250000\n",
    "EMBEDDING_DIM = 100\n",
    "DIMS = 250\n",
    "MAX_FEATURES = 5000\n",
    "batch_size = 32\n",
    "\n",
    "nb_filter = 250\n",
    "filter_length = 3\n",
    "hidden_dims = 250\n",
    "nb_epoch = 10"
   ]
  },
  {
   "cell_type": "markdown",
   "metadata": {
    "slideshow": {
     "slide_type": "slide"
    }
   },
   "source": [
    "## Сеть прямого распространения"
   ]
  },
  {
   "cell_type": "code",
   "execution_count": 5,
   "metadata": {
    "slideshow": {
     "slide_type": "subslide"
    }
   },
   "outputs": [
    {
     "data": {
      "text/plain": [
       "<keras.preprocessing.text.Tokenizer at 0x7f7155d30550>"
      ]
     },
     "execution_count": 5,
     "metadata": {},
     "output_type": "execute_result"
    }
   ],
   "source": [
    "tokenizer = Tokenizer(num_words=MAX_FEATURES)\n",
    "tokenizer.fit_on_texts(train_corpus.body)\n",
    "tokenizer"
   ]
  },
  {
   "cell_type": "code",
   "execution_count": 6,
   "metadata": {
    "slideshow": {
     "slide_type": "subslide"
    }
   },
   "outputs": [],
   "source": [
    "sequences = tokenizer.texts_to_sequences(train_corpus.body)\n",
    "X_train = tokenizer.sequences_to_matrix(sequences, mode='count')\n",
    "sequences = tokenizer.texts_to_sequences(test_corpus.body)\n",
    "X_test = tokenizer.sequences_to_matrix(sequences, mode='count')"
   ]
  },
  {
   "cell_type": "code",
   "execution_count": 7,
   "metadata": {
    "slideshow": {
     "slide_type": "subslide"
    }
   },
   "outputs": [
    {
     "name": "stdout",
     "output_type": "stream",
     "text": [
      "First seq: [280, 215, 3141, 23, 662, 2470, 1154, 29, 3184, 331, 4180, 1041, 178, 111, 215, 152, 1041, 87, 682, 950, 367, 228, 4, 122, 132, 1561, 763, 2470, 682, 486, 1238, 5, 510, 1786, 2053, 122, 670, 906, 886, 1447, 949, 122, 132, 1561, 2470, 21, 3294, 690, 3989, 2256, 1278, 210, 171, 7, 1793, 217, 1598, 762, 2754, 1370, 1793, 3989, 623, 200, 1003, 30, 1112, 3062, 4754, 474, 4213, 122, 132, 1370, 1549, 119, 1933, 4208, 134, 2273, 57, 33, 2470, 953, 86, 125, 3468, 1035, 122, 1561, 2055, 165, 1720, 364, 697, 3024, 416, 4180, 293, 367, 448, 1216, 510, 670, 13, 18, 367, 17, 1168, 522, 559, 3066, 1942, 3, 2470, 509, 132, 122, 414, 37, 408, 1561, 43, 12, 2088, 957, 2504, 367, 1900, 4209, 1439, 3453, 2470, 951, 160, 3453, 250, 1222, 462, 411, 230, 869, 593, 71, 4118, 430, 3023, 95, 1156, 4184, 1089, 372, 1222, 3453, 522, 157, 560, 348, 13, 122, 2097, 2055, 119, 1524, 952, 839, 575, 331, 2893, 372, 240, 1761, 164, 675, 2471, 339, 627, 378, 4508, 331, 1710, 3156, 150, 122, 2470, 627, 1373, 235, 160, 1474, 163, 1678, 795, 137, 444, 728, 87, 3039, 416, 2470, 174, 708, 414, 137, 137, 47, 122, 323, 3241, 134, 160, 444, 235, 137, 1276, 4, 21, 471, 331, 74, 122, 510, 261, 4, 1439, 3517, 331, 3532, 4508, 331, 2507, 119, 26, 238, 2123, 1049, 1544, 794, 719, 120, 37, 4458, 1245, 1398, 292, 42, 416, 4021, 473, 2285, 6, 309, 468, 3533, 190, 1353, 2551, 70, 416, 1639, 1162, 1049, 1637, 1019, 57, 1544, 1166, 309, 2470, 174, 2512, 1689, 164, 1517, 1230, 134, 2512, 4180, 952, 3377, 141, 1, 1769, 187, 173, 66, 32, 666, 88, 1733, 2470, 122, 408, 1825, 200, 132, 1398, 4180, 195, 2184, 531, 39, 146, 476, 1561, 122, 71, 3370, 4180, 2222, 85, 98, 3495, 267, 1297, 404, 440, 2233, 4180, 4180, 2058, 2098, 1439, 1034, 215, 42, 134, 4013, 1639, 416, 10, 471, 95, 134, 187, 1639, 13, 49, 2388, 2722, 1978, 164, 192, 204, 2470, 122, 122, 71, 80, 59, 21, 962, 102, 1035, 122, 165, 2370, 672, 23, 27, 794, 122, 2123, 318, 3267, 1398, 1104, 125, 3343, 215, 4313, 520, 190, 120, 3090, 1899, 2339, 1302, 122, 77, 49, 1104, 990, 1230, 374, 33, 194, 259, 331, 259, 1163, 138, 200, 122, 275, 204, 4180, 1548, 3826, 306, 4130, 1561, 122, 134, 1401, 1108, 416, 1049, 30, 1112, 3266, 1401, 493, 122, 86, 2470, 1, 444, 2510, 2055, 30, 965, 524, 3985, 449, 2560, 2470, 4179, 3332, 1187, 3985, 930, 803, 4180, 1444, 5, 682, 1, 240, 1761, 1751, 3040, 518, 2241, 137, 367, 286, 87, 2731, 1360, 201, 291, 1924, 156, 128, 157, 102, 46, 25, 4200, 667, 21, 10, 2, 2277, 707, 1, 461, 88, 4180, 1, 4, 298, 1585, 3184, 331, 4180]\n",
      "First doc: [0. 0. 0. ... 0. 0. 0.]\n"
     ]
    }
   ],
   "source": [
    "print('First seq:', sequences[0])\n",
    "print('First doc:',X_train[0])"
   ]
  },
  {
   "cell_type": "code",
   "execution_count": 8,
   "metadata": {
    "slideshow": {
     "slide_type": "subslide"
    }
   },
   "outputs": [
    {
     "name": "stdout",
     "output_type": "stream",
     "text": [
      "[1. 0. 0. 0. 0.]\n"
     ]
    }
   ],
   "source": [
    "le = LabelEncoder()\n",
    "le.fit(train_corpus.topic.unique())\n",
    "y_train = np_utils.to_categorical(le.transform(train_corpus.topic), 5)\n",
    "y_test = np_utils.to_categorical(le.transform(test_corpus.topic), 5)\n",
    "y_true = le.transform(test_corpus.topic)\n",
    "print(y_train[0])"
   ]
  },
  {
   "cell_type": "code",
   "execution_count": 9,
   "metadata": {
    "slideshow": {
     "slide_type": "subslide"
    }
   },
   "outputs": [
    {
     "name": "stdout",
     "output_type": "stream",
     "text": [
      "Train on 450 samples, validate on 50 samples\n",
      "Epoch 1/10\n",
      "450/450 [==============================] - 1s 3ms/step - loss: 0.9810 - acc: 0.6533 - val_loss: 0.6645 - val_acc: 0.7400\n",
      "Epoch 2/10\n",
      "450/450 [==============================] - 0s 187us/step - loss: 0.0806 - acc: 0.9911 - val_loss: 0.6934 - val_acc: 0.7800\n",
      "Epoch 3/10\n",
      "450/450 [==============================] - 0s 181us/step - loss: 0.0188 - acc: 1.0000 - val_loss: 0.6513 - val_acc: 0.7800\n",
      "Epoch 4/10\n",
      "450/450 [==============================] - 0s 180us/step - loss: 0.0078 - acc: 1.0000 - val_loss: 0.6593 - val_acc: 0.8200\n",
      "Epoch 5/10\n",
      "450/450 [==============================] - 0s 187us/step - loss: 0.0050 - acc: 1.0000 - val_loss: 0.6823 - val_acc: 0.8000\n",
      "Epoch 6/10\n",
      "450/450 [==============================] - 0s 188us/step - loss: 0.0037 - acc: 1.0000 - val_loss: 0.7002 - val_acc: 0.7800\n",
      "Epoch 7/10\n",
      "450/450 [==============================] - 0s 184us/step - loss: 0.0029 - acc: 1.0000 - val_loss: 0.7227 - val_acc: 0.7600\n",
      "Epoch 8/10\n",
      "450/450 [==============================] - 0s 181us/step - loss: 0.0023 - acc: 1.0000 - val_loss: 0.7688 - val_acc: 0.7600\n",
      "Epoch 9/10\n",
      "450/450 [==============================] - 0s 184us/step - loss: 0.0019 - acc: 1.0000 - val_loss: 0.7872 - val_acc: 0.7600\n",
      "Epoch 10/10\n",
      "450/450 [==============================] - 0s 181us/step - loss: 0.0017 - acc: 1.0000 - val_loss: 0.8032 - val_acc: 0.7600\n"
     ]
    },
    {
     "data": {
      "text/plain": [
       "<keras.callbacks.History at 0x7f71547c9550>"
      ]
     },
     "execution_count": 9,
     "metadata": {},
     "output_type": "execute_result"
    }
   ],
   "source": [
    "model = Sequential()\n",
    "model.add(Dense(756, input_shape=(MAX_FEATURES,), activation = 'relu'))\n",
    "model.add(Dropout(0.1))\n",
    "model.add(Dense(5, activation = 'softmax'))\n",
    "model.compile(loss='categorical_crossentropy', optimizer='adam', metrics=['accuracy'])\n",
    "model.fit(X_train, y_train, epochs=nb_epoch, batch_size=batch_size,  validation_split=0.1)"
   ]
  },
  {
   "cell_type": "code",
   "execution_count": 10,
   "metadata": {
    "slideshow": {
     "slide_type": "subslide"
    }
   },
   "outputs": [
    {
     "name": "stdout",
     "output_type": "stream",
     "text": [
      "_________________________________________________________________\n",
      "Layer (type)                 Output Shape              Param #   \n",
      "=================================================================\n",
      "dense_1 (Dense)              (None, 756)               3780756   \n",
      "_________________________________________________________________\n",
      "dropout_1 (Dropout)          (None, 756)               0         \n",
      "_________________________________________________________________\n",
      "dense_2 (Dense)              (None, 5)                 3785      \n",
      "=================================================================\n",
      "Total params: 3,784,541\n",
      "Trainable params: 3,784,541\n",
      "Non-trainable params: 0\n",
      "_________________________________________________________________\n"
     ]
    }
   ],
   "source": [
    "model.summary()"
   ]
  },
  {
   "cell_type": "code",
   "execution_count": 11,
   "metadata": {
    "slideshow": {
     "slide_type": "subslide"
    }
   },
   "outputs": [
    {
     "name": "stdout",
     "output_type": "stream",
     "text": [
      "             precision    recall  f1-score   support\n",
      "\n",
      "          0       1.00      1.00      1.00        10\n",
      "          1       0.70      0.70      0.70        10\n",
      "          2       0.60      0.90      0.72        10\n",
      "          3       1.00      1.00      1.00        10\n",
      "          4       1.00      0.50      0.67        10\n",
      "\n",
      "avg / total       0.86      0.82      0.82        50\n",
      "\n"
     ]
    },
    {
     "name": "stderr",
     "output_type": "stream",
     "text": [
      "/home/ec/.local/lib/python3.5/site-packages/sklearn/preprocessing/label.py:151: DeprecationWarning: The truth value of an empty array is ambiguous. Returning False, but in future this will result in an error. Use `array.size > 0` to check that an array is not empty.\n",
      "  if diff:\n",
      "/home/ec/.local/lib/python3.5/site-packages/sklearn/preprocessing/label.py:151: DeprecationWarning: The truth value of an empty array is ambiguous. Returning False, but in future this will result in an error. Use `array.size > 0` to check that an array is not empty.\n",
      "  if diff:\n",
      "/home/ec/.local/lib/python3.5/site-packages/pandas/core/computation/check.py:17: UserWarning: The installed version of numexpr 2.4.3 is not supported in pandas and will be not be used\n",
      "The minimum supported version is 2.4.6\n",
      "\n",
      "  ver=ver, min_ver=_MIN_NUMEXPR_VERSION), UserWarning)\n"
     ]
    },
    {
     "data": {
      "image/png": "[encoded data removed]",
      "text/plain": [
       "<matplotlib.figure.Figure at 0x7f71549f3ba8>"
      ]
     },
     "metadata": {},
     "output_type": "display_data"
    }
   ],
   "source": [
    "y_pred = model.predict_classes(X_test)\n",
    "print(classification_report(y_true, y_pred))\n",
    "labels = test_corpus.topic.unique()\n",
    "y_true = le.inverse_transform(y_true)\n",
    "y_pred = le.inverse_transform(y_pred)\n",
    "sns.heatmap(data=confusion_matrix(y_true, y_pred, labels = labels), annot=True, fmt=\"d\", cbar=False, xticklabels=labels, yticklabels=labels)\n",
    "plt.title(\"Confusion matrix\")\n",
    "plt.show()"
   ]
  },
  {
   "cell_type": "code",
   "execution_count": 12,
   "metadata": {
    "slideshow": {
     "slide_type": "subslide"
    }
   },
   "outputs": [],
   "source": [
    "sequences = tokenizer.texts_to_sequences(train_corpus.body)\n",
    "X_train = pad_sequences(sequences, maxlen=TEXT_LENGTH)\n",
    "sequences = tokenizer.texts_to_sequences(test_corpus.body)\n",
    "X_test = pad_sequences(sequences, maxlen=TEXT_LENGTH)"
   ]
  },
  {
   "cell_type": "code",
   "execution_count": 13,
   "metadata": {
    "slideshow": {
     "slide_type": "subslide"
    }
   },
   "outputs": [
    {
     "data": {
      "text/plain": [
       "array([   0,    0,    0, ..., 1275, 2034, 1517], dtype=int32)"
      ]
     },
     "execution_count": 13,
     "metadata": {},
     "output_type": "execute_result"
    }
   ],
   "source": [
    "X_train[0]"
   ]
  },
  {
   "cell_type": "code",
   "execution_count": 15,
   "metadata": {
    "collapsed": true,
    "slideshow": {
     "slide_type": "subslide"
    }
   },
   "outputs": [
    {
     "name": "stdout",
     "output_type": "stream",
     "text": [
      "Train on 450 samples, validate on 50 samples\n",
      "Epoch 1/1000\n",
      "450/450 [==============================] - 1s 3ms/step - loss: 2.6975 - acc: 0.2156 - val_loss: 2.0813 - val_acc: 0.0000e+00\n",
      "Epoch 2/1000\n",
      "450/450 [==============================] - 1s 1ms/step - loss: 1.5113 - acc: 0.4244 - val_loss: 2.7515 - val_acc: 0.0000e+00\n",
      "Epoch 3/1000\n",
      "450/450 [==============================] - 1s 1ms/step - loss: 1.3578 - acc: 0.4556 - val_loss: 2.3738 - val_acc: 0.0000e+00\n",
      "Epoch 4/1000\n",
      "450/450 [==============================] - 1s 1ms/step - loss: 1.1195 - acc: 0.6244 - val_loss: 2.2049 - val_acc: 0.0000e+00\n",
      "Epoch 5/1000\n",
      "450/450 [==============================] - 1s 1ms/step - loss: 0.8387 - acc: 0.7889 - val_loss: 1.6807 - val_acc: 0.0400\n",
      "Epoch 6/1000\n",
      "450/450 [==============================] - 1s 1ms/step - loss: 0.5825 - acc: 0.8933 - val_loss: 2.2124 - val_acc: 0.0000e+00\n",
      "Epoch 7/1000\n",
      "450/450 [==============================] - 1s 1ms/step - loss: 0.4004 - acc: 0.9400 - val_loss: 2.1431 - val_acc: 0.0000e+00\n",
      "Epoch 8/1000\n",
      "450/450 [==============================] - 1s 1ms/step - loss: 0.2551 - acc: 0.9778 - val_loss: 1.9273 - val_acc: 0.0000e+00\n",
      "Epoch 9/1000\n",
      "450/450 [==============================] - 1s 1ms/step - loss: 0.1566 - acc: 0.9844 - val_loss: 1.6087 - val_acc: 0.1000\n",
      "Epoch 10/1000\n",
      "450/450 [==============================] - 1s 1ms/step - loss: 0.1263 - acc: 0.9933 - val_loss: 1.5425 - val_acc: 0.1800\n",
      "Epoch 11/1000\n",
      "450/450 [==============================] - 1s 1ms/step - loss: 0.0834 - acc: 0.9911 - val_loss: 1.8319 - val_acc: 0.0400\n",
      "Epoch 12/1000\n",
      "450/450 [==============================] - 1s 1ms/step - loss: 0.0562 - acc: 1.0000 - val_loss: 1.8482 - val_acc: 0.0400\n",
      "Epoch 13/1000\n",
      "450/450 [==============================] - 1s 1ms/step - loss: 0.0504 - acc: 0.9956 - val_loss: 1.9130 - val_acc: 0.0400\n",
      "Epoch 14/1000\n",
      "450/450 [==============================] - 1s 1ms/step - loss: 0.0389 - acc: 0.9978 - val_loss: 1.7709 - val_acc: 0.1000\n",
      "Epoch 15/1000\n",
      "450/450 [==============================] - 1s 1ms/step - loss: 0.0315 - acc: 0.9956 - val_loss: 1.7881 - val_acc: 0.1200\n",
      "Epoch 16/1000\n",
      "450/450 [==============================] - 1s 1ms/step - loss: 0.0276 - acc: 0.9978 - val_loss: 1.8164 - val_acc: 0.0800\n",
      "Epoch 17/1000\n",
      "450/450 [==============================] - 1s 1ms/step - loss: 0.0209 - acc: 1.0000 - val_loss: 1.8735 - val_acc: 0.0600\n",
      "Epoch 18/1000\n",
      "450/450 [==============================] - 1s 1ms/step - loss: 0.0288 - acc: 0.9956 - val_loss: 2.1113 - val_acc: 0.0600\n",
      "Epoch 19/1000\n",
      "450/450 [==============================] - 1s 1ms/step - loss: 0.0170 - acc: 1.0000 - val_loss: 2.0055 - val_acc: 0.0600\n",
      "Epoch 20/1000\n",
      "450/450 [==============================] - 1s 1ms/step - loss: 0.0162 - acc: 1.0000 - val_loss: 1.8122 - val_acc: 0.1400\n",
      "Epoch 21/1000\n",
      "450/450 [==============================] - 1s 1ms/step - loss: 0.0121 - acc: 1.0000 - val_loss: 2.0825 - val_acc: 0.0600\n",
      "Epoch 22/1000\n",
      "450/450 [==============================] - 1s 1ms/step - loss: 0.0152 - acc: 0.9978 - val_loss: 1.8910 - val_acc: 0.1600\n",
      "Epoch 23/1000\n",
      "450/450 [==============================] - 1s 1ms/step - loss: 0.0103 - acc: 1.0000 - val_loss: 2.0047 - val_acc: 0.1000\n",
      "Epoch 24/1000\n",
      "450/450 [==============================] - 1s 1ms/step - loss: 0.0155 - acc: 0.9956 - val_loss: 1.7636 - val_acc: 0.1800\n",
      "Epoch 25/1000\n",
      "450/450 [==============================] - 1s 1ms/step - loss: 0.0081 - acc: 1.0000 - val_loss: 1.8287 - val_acc: 0.1800\n",
      "Epoch 26/1000\n",
      "450/450 [==============================] - 1s 1ms/step - loss: 0.0101 - acc: 1.0000 - val_loss: 1.9635 - val_acc: 0.1000\n",
      "Epoch 27/1000\n",
      "450/450 [==============================] - 1s 1ms/step - loss: 0.0115 - acc: 0.9978 - val_loss: 1.8353 - val_acc: 0.1600\n",
      "Epoch 28/1000\n",
      "450/450 [==============================] - 1s 1ms/step - loss: 0.0083 - acc: 1.0000 - val_loss: 1.9060 - val_acc: 0.1600\n",
      "Epoch 29/1000\n",
      "450/450 [==============================] - 1s 1ms/step - loss: 0.0078 - acc: 1.0000 - val_loss: 1.9524 - val_acc: 0.1600\n",
      "Epoch 30/1000\n",
      "450/450 [==============================] - 1s 1ms/step - loss: 0.0094 - acc: 1.0000 - val_loss: 1.9209 - val_acc: 0.1600\n",
      "Epoch 31/1000\n",
      "450/450 [==============================] - 1s 1ms/step - loss: 0.0101 - acc: 1.0000 - val_loss: 2.1080 - val_acc: 0.1200\n",
      "Epoch 32/1000\n",
      "450/450 [==============================] - 1s 1ms/step - loss: 0.0075 - acc: 1.0000 - val_loss: 1.6920 - val_acc: 0.2600\n",
      "Epoch 33/1000\n",
      "450/450 [==============================] - 1s 1ms/step - loss: 0.0056 - acc: 1.0000 - val_loss: 1.8811 - val_acc: 0.1800\n",
      "Epoch 34/1000\n",
      "450/450 [==============================] - 1s 1ms/step - loss: 0.0085 - acc: 0.9978 - val_loss: 1.9390 - val_acc: 0.1600\n",
      "Epoch 35/1000\n",
      "450/450 [==============================] - 1s 1ms/step - loss: 0.0066 - acc: 1.0000 - val_loss: 1.9380 - val_acc: 0.1800\n",
      "Epoch 36/1000\n",
      "450/450 [==============================] - 1s 1ms/step - loss: 0.0057 - acc: 1.0000 - val_loss: 1.7639 - val_acc: 0.2200\n",
      "Epoch 37/1000\n",
      "450/450 [==============================] - 1s 1ms/step - loss: 0.0049 - acc: 1.0000 - val_loss: 1.8988 - val_acc: 0.2000\n",
      "Epoch 38/1000\n",
      "450/450 [==============================] - 1s 1ms/step - loss: 0.0056 - acc: 1.0000 - val_loss: 2.0188 - val_acc: 0.1600\n",
      "Epoch 39/1000\n",
      "450/450 [==============================] - 1s 1ms/step - loss: 0.0090 - acc: 0.9978 - val_loss: 1.9680 - val_acc: 0.1600\n",
      "Epoch 40/1000\n",
      "450/450 [==============================] - 1s 1ms/step - loss: 0.0048 - acc: 1.0000 - val_loss: 2.0309 - val_acc: 0.1400\n",
      "Epoch 41/1000\n",
      "450/450 [==============================] - 1s 1ms/step - loss: 0.0037 - acc: 1.0000 - val_loss: 2.1329 - val_acc: 0.1400\n",
      "Epoch 42/1000\n",
      "450/450 [==============================] - 1s 1ms/step - loss: 0.0050 - acc: 1.0000 - val_loss: 2.1321 - val_acc: 0.1400\n",
      "Epoch 43/1000\n",
      "450/450 [==============================] - 1s 1ms/step - loss: 0.0056 - acc: 1.0000 - val_loss: 2.0140 - val_acc: 0.1600\n",
      "Epoch 44/1000\n",
      "450/450 [==============================] - 1s 1ms/step - loss: 0.0041 - acc: 1.0000 - val_loss: 1.8173 - val_acc: 0.2400\n",
      "Epoch 45/1000\n",
      "450/450 [==============================] - 1s 1ms/step - loss: 0.0033 - acc: 1.0000 - val_loss: 1.9993 - val_acc: 0.1600\n",
      "Epoch 46/1000\n",
      "450/450 [==============================] - 1s 1ms/step - loss: 0.0086 - acc: 1.0000 - val_loss: 1.9432 - val_acc: 0.2200\n",
      "Epoch 47/1000\n",
      "450/450 [==============================] - 1s 1ms/step - loss: 0.0060 - acc: 1.0000 - val_loss: 1.7328 - val_acc: 0.3200\n",
      "Epoch 48/1000\n",
      "450/450 [==============================] - 1s 1ms/step - loss: 0.0032 - acc: 1.0000 - val_loss: 1.8747 - val_acc: 0.2400\n",
      "Epoch 49/1000\n",
      "450/450 [==============================] - 1s 1ms/step - loss: 0.0042 - acc: 1.0000 - val_loss: 2.0881 - val_acc: 0.1400\n",
      "Epoch 50/1000\n",
      "450/450 [==============================] - 1s 1ms/step - loss: 0.0026 - acc: 1.0000 - val_loss: 2.4250 - val_acc: 0.0600\n",
      "Epoch 51/1000\n",
      "450/450 [==============================] - 1s 1ms/step - loss: 0.0020 - acc: 1.0000 - val_loss: 2.0989 - val_acc: 0.1600\n",
      "Epoch 52/1000\n",
      "450/450 [==============================] - 1s 1ms/step - loss: 0.0021 - acc: 1.0000 - val_loss: 1.9779 - val_acc: 0.2200\n",
      "Epoch 53/1000\n",
      "450/450 [==============================] - 1s 1ms/step - loss: 0.0027 - acc: 1.0000 - val_loss: 2.0389 - val_acc: 0.1800\n",
      "Epoch 54/1000\n",
      "450/450 [==============================] - 1s 1ms/step - loss: 0.0040 - acc: 1.0000 - val_loss: 2.2188 - val_acc: 0.1400\n",
      "Epoch 55/1000\n",
      "450/450 [==============================] - 1s 1ms/step - loss: 0.0068 - acc: 0.9978 - val_loss: 2.4230 - val_acc: 0.1200\n",
      "Epoch 56/1000\n",
      "450/450 [==============================] - 1s 1ms/step - loss: 0.0054 - acc: 0.9978 - val_loss: 2.3861 - val_acc: 0.1200\n",
      "Epoch 57/1000\n",
      "450/450 [==============================] - 1s 1ms/step - loss: 0.0033 - acc: 1.0000 - val_loss: 2.1830 - val_acc: 0.1600\n",
      "Epoch 58/1000\n",
      "450/450 [==============================] - 1s 1ms/step - loss: 0.0019 - acc: 1.0000 - val_loss: 2.0998 - val_acc: 0.2200\n",
      "Epoch 59/1000\n",
      "450/450 [==============================] - 1s 1ms/step - loss: 0.0017 - acc: 1.0000 - val_loss: 2.0891 - val_acc: 0.2200\n",
      "Epoch 60/1000\n",
      "450/450 [==============================] - 1s 1ms/step - loss: 0.0019 - acc: 1.0000 - val_loss: 2.1685 - val_acc: 0.1600\n",
      "Epoch 61/1000\n"
     ]
    },
    {
     "name": "stdout",
     "output_type": "stream",
     "text": [
      "450/450 [==============================] - 1s 1ms/step - loss: 0.0065 - acc: 0.9978 - val_loss: 2.5442 - val_acc: 0.1200\n",
      "Epoch 62/1000\n",
      "450/450 [==============================] - 1s 1ms/step - loss: 0.0031 - acc: 1.0000 - val_loss: 1.8966 - val_acc: 0.2800\n",
      "Epoch 63/1000\n",
      "450/450 [==============================] - 1s 1ms/step - loss: 0.0013 - acc: 1.0000 - val_loss: 1.7991 - val_acc: 0.3000\n",
      "Epoch 64/1000\n",
      "450/450 [==============================] - 1s 1ms/step - loss: 0.0028 - acc: 1.0000 - val_loss: 2.0232 - val_acc: 0.2400\n",
      "Epoch 65/1000\n",
      "450/450 [==============================] - 1s 1ms/step - loss: 0.0019 - acc: 1.0000 - val_loss: 2.3722 - val_acc: 0.1400\n",
      "Epoch 66/1000\n",
      "450/450 [==============================] - 1s 1ms/step - loss: 0.0015 - acc: 1.0000 - val_loss: 2.6821 - val_acc: 0.0800\n",
      "Epoch 67/1000\n",
      "450/450 [==============================] - 1s 1ms/step - loss: 0.0014 - acc: 1.0000 - val_loss: 2.5293 - val_acc: 0.1000\n",
      "Epoch 68/1000\n",
      "450/450 [==============================] - 1s 1ms/step - loss: 0.0033 - acc: 1.0000 - val_loss: 2.5785 - val_acc: 0.1000\n",
      "Epoch 69/1000\n",
      "450/450 [==============================] - 1s 1ms/step - loss: 0.0036 - acc: 0.9978 - val_loss: 2.2845 - val_acc: 0.1600\n",
      "Epoch 70/1000\n",
      "450/450 [==============================] - 1s 1ms/step - loss: 0.0037 - acc: 1.0000 - val_loss: 2.7221 - val_acc: 0.0800\n",
      "Epoch 71/1000\n",
      "450/450 [==============================] - 1s 1ms/step - loss: 0.0048 - acc: 0.9978 - val_loss: 2.6038 - val_acc: 0.0800\n",
      "Epoch 72/1000\n",
      "450/450 [==============================] - 1s 1ms/step - loss: 0.0031 - acc: 1.0000 - val_loss: 1.8864 - val_acc: 0.3000\n",
      "Epoch 73/1000\n",
      "450/450 [==============================] - 1s 1ms/step - loss: 0.0026 - acc: 1.0000 - val_loss: 1.8618 - val_acc: 0.3200\n",
      "Epoch 74/1000\n",
      "450/450 [==============================] - 1s 1ms/step - loss: 0.0012 - acc: 1.0000 - val_loss: 2.0252 - val_acc: 0.2000\n",
      "Epoch 75/1000\n",
      "450/450 [==============================] - 1s 1ms/step - loss: 0.0014 - acc: 1.0000 - val_loss: 2.2032 - val_acc: 0.2000\n",
      "Epoch 76/1000\n",
      "450/450 [==============================] - 1s 1ms/step - loss: 0.0028 - acc: 1.0000 - val_loss: 2.0701 - val_acc: 0.2200\n",
      "Epoch 77/1000\n",
      "450/450 [==============================] - 1s 1ms/step - loss: 0.0010 - acc: 1.0000 - val_loss: 1.9505 - val_acc: 0.2600\n",
      "Epoch 78/1000\n",
      "450/450 [==============================] - 1s 1ms/step - loss: 0.0025 - acc: 1.0000 - val_loss: 1.9895 - val_acc: 0.2600\n",
      "Epoch 79/1000\n",
      "450/450 [==============================] - 1s 1ms/step - loss: 0.0021 - acc: 1.0000 - val_loss: 2.1179 - val_acc: 0.2400\n",
      "Epoch 80/1000\n",
      "450/450 [==============================] - 1s 1ms/step - loss: 0.0015 - acc: 1.0000 - val_loss: 2.1856 - val_acc: 0.2200\n",
      "Epoch 81/1000\n",
      "450/450 [==============================] - 1s 1ms/step - loss: 7.8564e-04 - acc: 1.0000 - val_loss: 2.3083 - val_acc: 0.2000\n",
      "Epoch 82/1000\n",
      "450/450 [==============================] - 1s 1ms/step - loss: 0.0021 - acc: 1.0000 - val_loss: 2.2256 - val_acc: 0.2200\n",
      "Epoch 83/1000\n",
      "450/450 [==============================] - 1s 1ms/step - loss: 9.7701e-04 - acc: 1.0000 - val_loss: 2.1668 - val_acc: 0.2200\n",
      "Epoch 84/1000\n",
      "450/450 [==============================] - 1s 1ms/step - loss: 0.0022 - acc: 1.0000 - val_loss: 2.2569 - val_acc: 0.1800\n",
      "Epoch 85/1000\n",
      "450/450 [==============================] - 1s 1ms/step - loss: 0.0019 - acc: 1.0000 - val_loss: 2.4514 - val_acc: 0.1400\n",
      "Epoch 86/1000\n",
      "450/450 [==============================] - 1s 1ms/step - loss: 0.0015 - acc: 1.0000 - val_loss: 2.5331 - val_acc: 0.1200\n",
      "Epoch 87/1000\n",
      "450/450 [==============================] - 1s 1ms/step - loss: 0.0010 - acc: 1.0000 - val_loss: 2.3769 - val_acc: 0.1800\n",
      "Epoch 88/1000\n",
      "450/450 [==============================] - 1s 1ms/step - loss: 8.2169e-04 - acc: 1.0000 - val_loss: 2.4149 - val_acc: 0.1800\n",
      "Epoch 89/1000\n",
      "450/450 [==============================] - 1s 1ms/step - loss: 6.2413e-04 - acc: 1.0000 - val_loss: 2.4699 - val_acc: 0.1400\n",
      "Epoch 90/1000\n",
      "450/450 [==============================] - 1s 1ms/step - loss: 0.0032 - acc: 1.0000 - val_loss: 2.4400 - val_acc: 0.1600\n",
      "Epoch 91/1000\n",
      "450/450 [==============================] - 1s 1ms/step - loss: 5.1722e-04 - acc: 1.0000 - val_loss: 2.5823 - val_acc: 0.1400\n",
      "Epoch 92/1000\n",
      "450/450 [==============================] - 1s 1ms/step - loss: 0.0015 - acc: 1.0000 - val_loss: 2.4044 - val_acc: 0.1800\n",
      "Epoch 93/1000\n",
      "450/450 [==============================] - 1s 1ms/step - loss: 7.0324e-04 - acc: 1.0000 - val_loss: 2.2810 - val_acc: 0.2000\n",
      "Epoch 94/1000\n",
      "450/450 [==============================] - 1s 1ms/step - loss: 0.0018 - acc: 1.0000 - val_loss: 2.3516 - val_acc: 0.1800\n",
      "Epoch 95/1000\n",
      "450/450 [==============================] - 1s 1ms/step - loss: 6.0706e-04 - acc: 1.0000 - val_loss: 2.3683 - val_acc: 0.1800\n",
      "Epoch 96/1000\n",
      "450/450 [==============================] - 1s 1ms/step - loss: 3.6209e-04 - acc: 1.0000 - val_loss: 2.3870 - val_acc: 0.1600\n",
      "Epoch 97/1000\n",
      "450/450 [==============================] - 1s 1ms/step - loss: 5.7276e-04 - acc: 1.0000 - val_loss: 2.5416 - val_acc: 0.1400\n",
      "Epoch 98/1000\n",
      "450/450 [==============================] - 1s 1ms/step - loss: 0.0012 - acc: 1.0000 - val_loss: 2.5128 - val_acc: 0.1400\n",
      "Epoch 99/1000\n",
      "450/450 [==============================] - 1s 1ms/step - loss: 5.4390e-04 - acc: 1.0000 - val_loss: 2.5528 - val_acc: 0.1400\n",
      "Epoch 100/1000\n",
      "450/450 [==============================] - 1s 1ms/step - loss: 0.0014 - acc: 1.0000 - val_loss: 2.5659 - val_acc: 0.1400\n",
      "Epoch 101/1000\n",
      "450/450 [==============================] - 1s 1ms/step - loss: 0.0034 - acc: 0.9978 - val_loss: 2.3411 - val_acc: 0.1600\n",
      "Epoch 102/1000\n",
      "450/450 [==============================] - 1s 1ms/step - loss: 4.2353e-04 - acc: 1.0000 - val_loss: 2.2969 - val_acc: 0.1600\n",
      "Epoch 103/1000\n",
      "450/450 [==============================] - 1s 1ms/step - loss: 6.8836e-04 - acc: 1.0000 - val_loss: 2.2862 - val_acc: 0.1600\n",
      "Epoch 104/1000\n",
      "450/450 [==============================] - 1s 1ms/step - loss: 0.0012 - acc: 1.0000 - val_loss: 2.3053 - val_acc: 0.1600\n",
      "Epoch 105/1000\n",
      "450/450 [==============================] - 1s 1ms/step - loss: 4.2395e-04 - acc: 1.0000 - val_loss: 2.4623 - val_acc: 0.1400\n",
      "Epoch 106/1000\n",
      "450/450 [==============================] - 1s 1ms/step - loss: 2.4217e-04 - acc: 1.0000 - val_loss: 2.4892 - val_acc: 0.1400\n",
      "Epoch 107/1000\n",
      "450/450 [==============================] - 1s 1ms/step - loss: 0.0025 - acc: 1.0000 - val_loss: 2.6475 - val_acc: 0.1200\n",
      "Epoch 108/1000\n",
      "450/450 [==============================] - 1s 1ms/step - loss: 0.0020 - acc: 1.0000 - val_loss: 2.5590 - val_acc: 0.1600\n",
      "Epoch 109/1000\n",
      "450/450 [==============================] - 1s 1ms/step - loss: 0.0010 - acc: 1.0000 - val_loss: 2.3810 - val_acc: 0.2000\n",
      "Epoch 110/1000\n",
      "450/450 [==============================] - 1s 1ms/step - loss: 0.0043 - acc: 0.9978 - val_loss: 2.1921 - val_acc: 0.2200\n",
      "Epoch 111/1000\n",
      "450/450 [==============================] - 1s 1ms/step - loss: 8.6795e-04 - acc: 1.0000 - val_loss: 2.2238 - val_acc: 0.2200\n",
      "Epoch 112/1000\n",
      "450/450 [==============================] - 1s 1ms/step - loss: 5.9989e-04 - acc: 1.0000 - val_loss: 2.3946 - val_acc: 0.2000\n",
      "Epoch 113/1000\n",
      "450/450 [==============================] - 1s 1ms/step - loss: 9.4709e-04 - acc: 1.0000 - val_loss: 2.5544 - val_acc: 0.1800\n",
      "Epoch 114/1000\n",
      "450/450 [==============================] - 1s 1ms/step - loss: 0.0016 - acc: 1.0000 - val_loss: 2.5845 - val_acc: 0.1600\n",
      "Epoch 115/1000\n",
      "450/450 [==============================] - 1s 1ms/step - loss: 6.3640e-04 - acc: 1.0000 - val_loss: 2.8981 - val_acc: 0.1000\n",
      "Epoch 116/1000\n",
      "450/450 [==============================] - 1s 1ms/step - loss: 8.5114e-04 - acc: 1.0000 - val_loss: 2.8608 - val_acc: 0.1000\n",
      "Epoch 117/1000\n",
      "450/450 [==============================] - 1s 1ms/step - loss: 5.6066e-04 - acc: 1.0000 - val_loss: 2.9265 - val_acc: 0.1000\n",
      "Epoch 118/1000\n",
      "450/450 [==============================] - 1s 1ms/step - loss: 3.2465e-04 - acc: 1.0000 - val_loss: 2.9632 - val_acc: 0.1000\n",
      "Epoch 119/1000\n",
      "450/450 [==============================] - 1s 1ms/step - loss: 6.6089e-04 - acc: 1.0000 - val_loss: 2.8239 - val_acc: 0.1200\n",
      "Epoch 120/1000\n",
      "450/450 [==============================] - 1s 1ms/step - loss: 3.5433e-04 - acc: 1.0000 - val_loss: 2.6818 - val_acc: 0.1200\n"
     ]
    },
    {
     "name": "stdout",
     "output_type": "stream",
     "text": [
      "Epoch 121/1000\n",
      "450/450 [==============================] - 1s 1ms/step - loss: 0.0012 - acc: 1.0000 - val_loss: 2.3285 - val_acc: 0.2000\n",
      "Epoch 122/1000\n",
      "450/450 [==============================] - 1s 1ms/step - loss: 4.4433e-04 - acc: 1.0000 - val_loss: 2.3111 - val_acc: 0.2000\n",
      "Epoch 123/1000\n",
      "450/450 [==============================] - 1s 1ms/step - loss: 4.5624e-04 - acc: 1.0000 - val_loss: 2.4232 - val_acc: 0.2000\n",
      "Epoch 124/1000\n",
      "450/450 [==============================] - 1s 1ms/step - loss: 7.4538e-04 - acc: 1.0000 - val_loss: 2.5021 - val_acc: 0.1600\n",
      "Epoch 125/1000\n",
      "450/450 [==============================] - 1s 1ms/step - loss: 4.9799e-04 - acc: 1.0000 - val_loss: 2.6750 - val_acc: 0.1600\n",
      "Epoch 126/1000\n",
      "450/450 [==============================] - 1s 1ms/step - loss: 6.6015e-04 - acc: 1.0000 - val_loss: 2.7970 - val_acc: 0.1400\n",
      "Epoch 127/1000\n",
      "450/450 [==============================] - 1s 1ms/step - loss: 0.0021 - acc: 1.0000 - val_loss: 2.9374 - val_acc: 0.1200\n",
      "Epoch 128/1000\n",
      "450/450 [==============================] - 1s 1ms/step - loss: 0.0012 - acc: 1.0000 - val_loss: 3.2014 - val_acc: 0.0800\n",
      "Epoch 129/1000\n",
      "450/450 [==============================] - 1s 1ms/step - loss: 2.6665e-04 - acc: 1.0000 - val_loss: 3.1051 - val_acc: 0.0800\n",
      "Epoch 130/1000\n",
      "450/450 [==============================] - 1s 1ms/step - loss: 0.0022 - acc: 0.9978 - val_loss: 4.0866 - val_acc: 0.0600\n",
      "Epoch 131/1000\n",
      "450/450 [==============================] - 1s 1ms/step - loss: 4.1767e-04 - acc: 1.0000 - val_loss: 4.0956 - val_acc: 0.0600\n",
      "Epoch 132/1000\n",
      "450/450 [==============================] - 1s 1ms/step - loss: 0.0010 - acc: 1.0000 - val_loss: 3.8441 - val_acc: 0.0800\n",
      "Epoch 133/1000\n",
      "450/450 [==============================] - 1s 1ms/step - loss: 0.0014 - acc: 1.0000 - val_loss: 2.7873 - val_acc: 0.1400\n",
      "Epoch 134/1000\n",
      "450/450 [==============================] - 1s 1ms/step - loss: 2.0676e-04 - acc: 1.0000 - val_loss: 2.6109 - val_acc: 0.1800\n",
      "Epoch 135/1000\n",
      "450/450 [==============================] - 1s 1ms/step - loss: 7.2426e-04 - acc: 1.0000 - val_loss: 2.6353 - val_acc: 0.1600\n",
      "Epoch 136/1000\n",
      "450/450 [==============================] - 1s 1ms/step - loss: 0.0017 - acc: 1.0000 - val_loss: 2.7141 - val_acc: 0.1600\n",
      "Epoch 137/1000\n",
      "450/450 [==============================] - 1s 1ms/step - loss: 4.6753e-04 - acc: 1.0000 - val_loss: 2.9685 - val_acc: 0.1200\n",
      "Epoch 138/1000\n",
      "450/450 [==============================] - 1s 1ms/step - loss: 0.0012 - acc: 1.0000 - val_loss: 3.1746 - val_acc: 0.1000\n",
      "Epoch 139/1000\n",
      "450/450 [==============================] - 1s 1ms/step - loss: 9.8190e-04 - acc: 1.0000 - val_loss: 3.2881 - val_acc: 0.1000\n",
      "Epoch 140/1000\n",
      "450/450 [==============================] - 1s 1ms/step - loss: 3.7655e-04 - acc: 1.0000 - val_loss: 3.3289 - val_acc: 0.0800\n",
      "Epoch 141/1000\n",
      "450/450 [==============================] - 1s 1ms/step - loss: 8.0991e-04 - acc: 1.0000 - val_loss: 3.1723 - val_acc: 0.1000\n",
      "Epoch 142/1000\n",
      "450/450 [==============================] - 1s 1ms/step - loss: 3.9419e-04 - acc: 1.0000 - val_loss: 2.9876 - val_acc: 0.1000\n",
      "Epoch 143/1000\n",
      "450/450 [==============================] - 1s 1ms/step - loss: 1.4336e-04 - acc: 1.0000 - val_loss: 2.9393 - val_acc: 0.1000\n",
      "Epoch 144/1000\n",
      "450/450 [==============================] - 1s 1ms/step - loss: 1.0184e-04 - acc: 1.0000 - val_loss: 2.9383 - val_acc: 0.1000\n",
      "Epoch 145/1000\n",
      "450/450 [==============================] - 1s 1ms/step - loss: 3.4378e-04 - acc: 1.0000 - val_loss: 2.9105 - val_acc: 0.1000\n",
      "Epoch 146/1000\n",
      "450/450 [==============================] - 1s 1ms/step - loss: 1.8560e-04 - acc: 1.0000 - val_loss: 2.8632 - val_acc: 0.1400\n",
      "Epoch 147/1000\n",
      "450/450 [==============================] - 1s 1ms/step - loss: 4.2049e-04 - acc: 1.0000 - val_loss: 2.7434 - val_acc: 0.1800\n",
      "Epoch 148/1000\n",
      "450/450 [==============================] - 1s 1ms/step - loss: 0.0013 - acc: 1.0000 - val_loss: 2.6688 - val_acc: 0.1800\n",
      "Epoch 149/1000\n",
      "450/450 [==============================] - 1s 1ms/step - loss: 2.3642e-04 - acc: 1.0000 - val_loss: 2.8351 - val_acc: 0.1400\n",
      "Epoch 150/1000\n",
      "450/450 [==============================] - 1s 1ms/step - loss: 4.4540e-04 - acc: 1.0000 - val_loss: 2.7673 - val_acc: 0.1800\n",
      "Epoch 151/1000\n",
      "450/450 [==============================] - 1s 1ms/step - loss: 4.1458e-04 - acc: 1.0000 - val_loss: 2.8812 - val_acc: 0.1400\n",
      "Epoch 152/1000\n",
      "450/450 [==============================] - 1s 1ms/step - loss: 5.9599e-04 - acc: 1.0000 - val_loss: 2.6297 - val_acc: 0.1800\n",
      "Epoch 153/1000\n",
      "450/450 [==============================] - 1s 1ms/step - loss: 0.0014 - acc: 1.0000 - val_loss: 2.9583 - val_acc: 0.1200\n",
      "Epoch 154/1000\n",
      "450/450 [==============================] - 1s 1ms/step - loss: 2.8410e-04 - acc: 1.0000 - val_loss: 2.7426 - val_acc: 0.2000\n",
      "Epoch 155/1000\n",
      "450/450 [==============================] - 1s 1ms/step - loss: 2.2817e-04 - acc: 1.0000 - val_loss: 2.7191 - val_acc: 0.2000\n",
      "Epoch 156/1000\n",
      "450/450 [==============================] - 1s 1ms/step - loss: 5.1852e-04 - acc: 1.0000 - val_loss: 2.9670 - val_acc: 0.1200\n",
      "Epoch 157/1000\n",
      "450/450 [==============================] - 1s 1ms/step - loss: 9.2647e-04 - acc: 1.0000 - val_loss: 2.9817 - val_acc: 0.1200\n",
      "Epoch 158/1000\n",
      "450/450 [==============================] - 1s 1ms/step - loss: 0.0014 - acc: 1.0000 - val_loss: 3.0241 - val_acc: 0.1200\n",
      "Epoch 159/1000\n",
      "450/450 [==============================] - 1s 1ms/step - loss: 2.8441e-04 - acc: 1.0000 - val_loss: 2.9976 - val_acc: 0.1200\n",
      "Epoch 160/1000\n",
      "450/450 [==============================] - 1s 1ms/step - loss: 3.7797e-04 - acc: 1.0000 - val_loss: 2.7496 - val_acc: 0.1600\n",
      "Epoch 161/1000\n",
      "450/450 [==============================] - 1s 1ms/step - loss: 2.5001e-04 - acc: 1.0000 - val_loss: 2.6120 - val_acc: 0.2000\n",
      "Epoch 162/1000\n",
      "450/450 [==============================] - 1s 1ms/step - loss: 0.0025 - acc: 0.9978 - val_loss: 2.0432 - val_acc: 0.3400\n",
      "Epoch 163/1000\n",
      "450/450 [==============================] - 1s 1ms/step - loss: 7.9487e-04 - acc: 1.0000 - val_loss: 1.8444 - val_acc: 0.3800\n",
      "Epoch 164/1000\n",
      "450/450 [==============================] - 1s 1ms/step - loss: 4.0732e-04 - acc: 1.0000 - val_loss: 1.9133 - val_acc: 0.3800\n",
      "Epoch 165/1000\n",
      "450/450 [==============================] - 1s 1ms/step - loss: 4.8028e-04 - acc: 1.0000 - val_loss: 2.0645 - val_acc: 0.3400\n",
      "Epoch 166/1000\n",
      "450/450 [==============================] - 1s 1ms/step - loss: 1.8062e-04 - acc: 1.0000 - val_loss: 2.1807 - val_acc: 0.2800\n",
      "Epoch 167/1000\n",
      "450/450 [==============================] - 1s 1ms/step - loss: 4.5546e-04 - acc: 1.0000 - val_loss: 2.3800 - val_acc: 0.2200\n",
      "Epoch 168/1000\n",
      "450/450 [==============================] - 1s 1ms/step - loss: 0.0011 - acc: 1.0000 - val_loss: 2.3044 - val_acc: 0.2600\n",
      "Epoch 169/1000\n",
      "450/450 [==============================] - 1s 1ms/step - loss: 3.4797e-04 - acc: 1.0000 - val_loss: 2.2845 - val_acc: 0.2800\n",
      "Epoch 170/1000\n",
      "450/450 [==============================] - 1s 1ms/step - loss: 5.3675e-04 - acc: 1.0000 - val_loss: 2.1858 - val_acc: 0.3200\n",
      "Epoch 171/1000\n",
      "450/450 [==============================] - 1s 1ms/step - loss: 0.0070 - acc: 0.9978 - val_loss: 2.5549 - val_acc: 0.1800\n",
      "Epoch 172/1000\n",
      "450/450 [==============================] - 1s 1ms/step - loss: 0.0017 - acc: 1.0000 - val_loss: 2.5825 - val_acc: 0.1800\n",
      "Epoch 173/1000\n",
      "450/450 [==============================] - 1s 1ms/step - loss: 0.0017 - acc: 1.0000 - val_loss: 2.2850 - val_acc: 0.2600\n",
      "Epoch 174/1000\n",
      "450/450 [==============================] - 1s 1ms/step - loss: 0.0011 - acc: 1.0000 - val_loss: 2.3865 - val_acc: 0.2000\n",
      "Epoch 175/1000\n",
      "450/450 [==============================] - 1s 1ms/step - loss: 5.5161e-04 - acc: 1.0000 - val_loss: 3.0427 - val_acc: 0.1600\n",
      "Epoch 176/1000\n",
      "450/450 [==============================] - 1s 1ms/step - loss: 0.0014 - acc: 1.0000 - val_loss: 3.1855 - val_acc: 0.1400\n",
      "Epoch 177/1000\n",
      "450/450 [==============================] - 1s 1ms/step - loss: 2.8905e-04 - acc: 1.0000 - val_loss: 3.0230 - val_acc: 0.1800\n",
      "Epoch 178/1000\n",
      "450/450 [==============================] - 1s 1ms/step - loss: 1.7220e-04 - acc: 1.0000 - val_loss: 2.8829 - val_acc: 0.1800\n",
      "Epoch 179/1000\n",
      "450/450 [==============================] - 1s 1ms/step - loss: 7.6235e-04 - acc: 1.0000 - val_loss: 2.2925 - val_acc: 0.2800\n",
      "Epoch 180/1000\n"
     ]
    },
    {
     "name": "stdout",
     "output_type": "stream",
     "text": [
      "450/450 [==============================] - 1s 1ms/step - loss: 1.8125e-04 - acc: 1.0000 - val_loss: 2.2515 - val_acc: 0.2800\n",
      "Epoch 181/1000\n",
      "450/450 [==============================] - 1s 1ms/step - loss: 0.0012 - acc: 1.0000 - val_loss: 2.1199 - val_acc: 0.3400\n",
      "Epoch 182/1000\n",
      "450/450 [==============================] - 1s 1ms/step - loss: 6.0248e-04 - acc: 1.0000 - val_loss: 2.3211 - val_acc: 0.2800\n",
      "Epoch 183/1000\n",
      "450/450 [==============================] - 1s 1ms/step - loss: 9.4260e-04 - acc: 1.0000 - val_loss: 2.2198 - val_acc: 0.3200\n",
      "Epoch 184/1000\n",
      "450/450 [==============================] - 1s 1ms/step - loss: 2.9253e-04 - acc: 1.0000 - val_loss: 2.0902 - val_acc: 0.3400\n",
      "Epoch 185/1000\n",
      "450/450 [==============================] - 1s 1ms/step - loss: 0.0015 - acc: 1.0000 - val_loss: 2.3502 - val_acc: 0.3200\n",
      "Epoch 186/1000\n",
      "450/450 [==============================] - 1s 1ms/step - loss: 6.6935e-04 - acc: 1.0000 - val_loss: 3.2223 - val_acc: 0.1200\n",
      "Epoch 187/1000\n",
      "450/450 [==============================] - 1s 1ms/step - loss: 1.4781e-04 - acc: 1.0000 - val_loss: 3.6767 - val_acc: 0.0800\n",
      "Epoch 188/1000\n",
      "450/450 [==============================] - 1s 1ms/step - loss: 6.9558e-04 - acc: 1.0000 - val_loss: 4.2425 - val_acc: 0.0800\n",
      "Epoch 189/1000\n",
      "450/450 [==============================] - 1s 1ms/step - loss: 3.4462e-04 - acc: 1.0000 - val_loss: 4.3554 - val_acc: 0.0800\n",
      "Epoch 190/1000\n",
      "450/450 [==============================] - 1s 1ms/step - loss: 3.9143e-04 - acc: 1.0000 - val_loss: 4.4597 - val_acc: 0.0800\n",
      "Epoch 191/1000\n",
      "450/450 [==============================] - 1s 1ms/step - loss: 0.0015 - acc: 1.0000 - val_loss: 4.9924 - val_acc: 0.0600\n",
      "Epoch 192/1000\n",
      "450/450 [==============================] - 1s 1ms/step - loss: 1.3722e-04 - acc: 1.0000 - val_loss: 5.9453 - val_acc: 0.0600\n",
      "Epoch 193/1000\n",
      "450/450 [==============================] - 1s 1ms/step - loss: 3.6273e-04 - acc: 1.0000 - val_loss: 5.1645 - val_acc: 0.0600\n",
      "Epoch 194/1000\n",
      "450/450 [==============================] - 1s 1ms/step - loss: 0.0022 - acc: 0.9978 - val_loss: 4.1092 - val_acc: 0.0800\n",
      "Epoch 195/1000\n",
      "450/450 [==============================] - 1s 1ms/step - loss: 3.5665e-04 - acc: 1.0000 - val_loss: 3.6511 - val_acc: 0.0800\n",
      "Epoch 196/1000\n",
      "450/450 [==============================] - 1s 1ms/step - loss: 1.5562e-04 - acc: 1.0000 - val_loss: 3.5963 - val_acc: 0.1000\n",
      "Epoch 197/1000\n",
      "450/450 [==============================] - 1s 1ms/step - loss: 1.6278e-04 - acc: 1.0000 - val_loss: 3.6422 - val_acc: 0.1000\n",
      "Epoch 198/1000\n",
      "450/450 [==============================] - 1s 1ms/step - loss: 7.2580e-04 - acc: 1.0000 - val_loss: 3.6771 - val_acc: 0.0800\n",
      "Epoch 199/1000\n",
      "450/450 [==============================] - 1s 1ms/step - loss: 4.9934e-04 - acc: 1.0000 - val_loss: 3.8774 - val_acc: 0.0800\n",
      "Epoch 200/1000\n",
      "450/450 [==============================] - 1s 1ms/step - loss: 1.1633e-04 - acc: 1.0000 - val_loss: 3.8364 - val_acc: 0.0800\n",
      "Epoch 201/1000\n",
      "450/450 [==============================] - 1s 1ms/step - loss: 1.3604e-04 - acc: 1.0000 - val_loss: 3.8790 - val_acc: 0.0800\n",
      "Epoch 202/1000\n",
      "450/450 [==============================] - 1s 1ms/step - loss: 6.1719e-04 - acc: 1.0000 - val_loss: 3.9863 - val_acc: 0.0800\n",
      "Epoch 203/1000\n",
      "450/450 [==============================] - 1s 1ms/step - loss: 1.4602e-04 - acc: 1.0000 - val_loss: 4.0651 - val_acc: 0.0800\n",
      "Epoch 204/1000\n",
      "450/450 [==============================] - 1s 1ms/step - loss: 2.4787e-04 - acc: 1.0000 - val_loss: 4.1668 - val_acc: 0.0800\n",
      "Epoch 205/1000\n",
      "450/450 [==============================] - 1s 1ms/step - loss: 1.5557e-04 - acc: 1.0000 - val_loss: 4.2983 - val_acc: 0.0800\n",
      "Epoch 206/1000\n",
      "450/450 [==============================] - 1s 1ms/step - loss: 6.9085e-05 - acc: 1.0000 - val_loss: 4.2635 - val_acc: 0.0800\n",
      "Epoch 207/1000\n",
      "450/450 [==============================] - 1s 1ms/step - loss: 0.0029 - acc: 0.9978 - val_loss: 3.5297 - val_acc: 0.1200\n",
      "Epoch 208/1000\n",
      "450/450 [==============================] - 1s 1ms/step - loss: 9.7702e-04 - acc: 1.0000 - val_loss: 3.0681 - val_acc: 0.1800\n",
      "Epoch 209/1000\n",
      "450/450 [==============================] - 1s 1ms/step - loss: 4.9781e-04 - acc: 1.0000 - val_loss: 3.0888 - val_acc: 0.1800\n",
      "Epoch 210/1000\n",
      "450/450 [==============================] - 1s 1ms/step - loss: 4.0149e-04 - acc: 1.0000 - val_loss: 3.0464 - val_acc: 0.1800\n",
      "Epoch 211/1000\n",
      "450/450 [==============================] - 1s 1ms/step - loss: 1.3731e-04 - acc: 1.0000 - val_loss: 2.9408 - val_acc: 0.2000\n",
      "Epoch 212/1000\n",
      "450/450 [==============================] - 1s 1ms/step - loss: 0.0011 - acc: 1.0000 - val_loss: 4.1708 - val_acc: 0.0800\n",
      "Epoch 213/1000\n",
      "450/450 [==============================] - 1s 1ms/step - loss: 3.5056e-04 - acc: 1.0000 - val_loss: 4.3882 - val_acc: 0.0800\n",
      "Epoch 214/1000\n",
      "450/450 [==============================] - 1s 1ms/step - loss: 9.1869e-04 - acc: 1.0000 - val_loss: 4.0554 - val_acc: 0.0800\n",
      "Epoch 215/1000\n",
      "450/450 [==============================] - 1s 1ms/step - loss: 2.5808e-04 - acc: 1.0000 - val_loss: 3.8417 - val_acc: 0.1200\n",
      "Epoch 216/1000\n",
      "450/450 [==============================] - 1s 1ms/step - loss: 2.4737e-04 - acc: 1.0000 - val_loss: 3.6480 - val_acc: 0.1600\n",
      "Epoch 217/1000\n",
      "450/450 [==============================] - 1s 1ms/step - loss: 0.0026 - acc: 1.0000 - val_loss: 4.8819 - val_acc: 0.0600\n",
      "Epoch 218/1000\n",
      "450/450 [==============================] - 1s 1ms/step - loss: 5.9485e-04 - acc: 1.0000 - val_loss: 5.2648 - val_acc: 0.0600\n",
      "Epoch 219/1000\n",
      "450/450 [==============================] - 1s 1ms/step - loss: 0.0120 - acc: 0.9956 - val_loss: 3.5720 - val_acc: 0.1400\n",
      "Epoch 220/1000\n",
      "450/450 [==============================] - 1s 1ms/step - loss: 7.3882e-04 - acc: 1.0000 - val_loss: 2.0076 - val_acc: 0.3600\n",
      "Epoch 221/1000\n",
      "450/450 [==============================] - 1s 1ms/step - loss: 7.0209e-04 - acc: 1.0000 - val_loss: 2.2275 - val_acc: 0.2800\n",
      "Epoch 222/1000\n",
      "224/450 [=============>................] - ETA: 0s - loss: 0.0036 - acc: 1.0000   "
     ]
    },
    {
     "ename": "KeyboardInterrupt",
     "evalue": "",
     "output_type": "error",
     "traceback": [
      "\u001b[0;31m---------------------------------------------------------------------------\u001b[0m",
      "\u001b[0;31mKeyboardInterrupt\u001b[0m                         Traceback (most recent call last)",
      "\u001b[0;32m<ipython-input-15-e0d8c07ad6b8>\u001b[0m in \u001b[0;36m<module>\u001b[0;34m()\u001b[0m\n\u001b[1;32m      7\u001b[0m \u001b[0mmodel\u001b[0m\u001b[0;34m.\u001b[0m\u001b[0mcompile\u001b[0m\u001b[0;34m(\u001b[0m\u001b[0moptimizer\u001b[0m\u001b[0;34m=\u001b[0m\u001b[0;34m'adam'\u001b[0m\u001b[0;34m,\u001b[0m \u001b[0mloss\u001b[0m\u001b[0;34m=\u001b[0m\u001b[0;34m'binary_crossentropy'\u001b[0m\u001b[0;34m,\u001b[0m \u001b[0mmetrics\u001b[0m\u001b[0;34m=\u001b[0m\u001b[0;34m[\u001b[0m\u001b[0;34m'acc'\u001b[0m\u001b[0;34m]\u001b[0m\u001b[0;34m)\u001b[0m\u001b[0;34m\u001b[0m\u001b[0m\n\u001b[1;32m      8\u001b[0m \u001b[0mmodel\u001b[0m\u001b[0;34m.\u001b[0m\u001b[0mcompile\u001b[0m\u001b[0;34m(\u001b[0m\u001b[0mloss\u001b[0m\u001b[0;34m=\u001b[0m\u001b[0;34m'categorical_crossentropy'\u001b[0m\u001b[0;34m,\u001b[0m \u001b[0moptimizer\u001b[0m\u001b[0;34m=\u001b[0m\u001b[0;34m'adam'\u001b[0m\u001b[0;34m,\u001b[0m \u001b[0mmetrics\u001b[0m\u001b[0;34m=\u001b[0m\u001b[0;34m[\u001b[0m\u001b[0;34m'accuracy'\u001b[0m\u001b[0;34m]\u001b[0m\u001b[0;34m)\u001b[0m\u001b[0;34m\u001b[0m\u001b[0m\n\u001b[0;32m----> 9\u001b[0;31m \u001b[0mmodel\u001b[0m\u001b[0;34m.\u001b[0m\u001b[0mfit\u001b[0m\u001b[0;34m(\u001b[0m\u001b[0mX_train\u001b[0m\u001b[0;34m,\u001b[0m \u001b[0my_train\u001b[0m\u001b[0;34m,\u001b[0m \u001b[0mepochs\u001b[0m\u001b[0;34m=\u001b[0m\u001b[0;36m1000\u001b[0m\u001b[0;34m,\u001b[0m \u001b[0mbatch_size\u001b[0m\u001b[0;34m=\u001b[0m\u001b[0mbatch_size\u001b[0m\u001b[0;34m,\u001b[0m  \u001b[0mvalidation_split\u001b[0m\u001b[0;34m=\u001b[0m\u001b[0;36m0.1\u001b[0m\u001b[0;34m)\u001b[0m\u001b[0;34m\u001b[0m\u001b[0m\n\u001b[0m",
      "\u001b[0;32m~/.local/lib/python3.5/site-packages/keras/models.py\u001b[0m in \u001b[0;36mfit\u001b[0;34m(self, x, y, batch_size, epochs, verbose, callbacks, validation_split, validation_data, shuffle, class_weight, sample_weight, initial_epoch, steps_per_epoch, validation_steps, **kwargs)\u001b[0m\n\u001b[1;32m    961\u001b[0m                               \u001b[0minitial_epoch\u001b[0m\u001b[0;34m=\u001b[0m\u001b[0minitial_epoch\u001b[0m\u001b[0;34m,\u001b[0m\u001b[0;34m\u001b[0m\u001b[0m\n\u001b[1;32m    962\u001b[0m                               \u001b[0msteps_per_epoch\u001b[0m\u001b[0;34m=\u001b[0m\u001b[0msteps_per_epoch\u001b[0m\u001b[0;34m,\u001b[0m\u001b[0;34m\u001b[0m\u001b[0m\n\u001b[0;32m--> 963\u001b[0;31m                               validation_steps=validation_steps)\n\u001b[0m\u001b[1;32m    964\u001b[0m \u001b[0;34m\u001b[0m\u001b[0m\n\u001b[1;32m    965\u001b[0m     def evaluate(self, x=None, y=None,\n",
      "\u001b[0;32m~/.local/lib/python3.5/site-packages/keras/engine/training.py\u001b[0m in \u001b[0;36mfit\u001b[0;34m(self, x, y, batch_size, epochs, verbose, callbacks, validation_split, validation_data, shuffle, class_weight, sample_weight, initial_epoch, steps_per_epoch, validation_steps, **kwargs)\u001b[0m\n\u001b[1;32m   1710\u001b[0m                               \u001b[0minitial_epoch\u001b[0m\u001b[0;34m=\u001b[0m\u001b[0minitial_epoch\u001b[0m\u001b[0;34m,\u001b[0m\u001b[0;34m\u001b[0m\u001b[0m\n\u001b[1;32m   1711\u001b[0m                               \u001b[0msteps_per_epoch\u001b[0m\u001b[0;34m=\u001b[0m\u001b[0msteps_per_epoch\u001b[0m\u001b[0;34m,\u001b[0m\u001b[0;34m\u001b[0m\u001b[0m\n\u001b[0;32m-> 1712\u001b[0;31m                               validation_steps=validation_steps)\n\u001b[0m\u001b[1;32m   1713\u001b[0m \u001b[0;34m\u001b[0m\u001b[0m\n\u001b[1;32m   1714\u001b[0m     def evaluate(self, x=None, y=None,\n",
      "\u001b[0;32m~/.local/lib/python3.5/site-packages/keras/engine/training.py\u001b[0m in \u001b[0;36m_fit_loop\u001b[0;34m(self, f, ins, out_labels, batch_size, epochs, verbose, callbacks, val_f, val_ins, shuffle, callback_metrics, initial_epoch, steps_per_epoch, validation_steps)\u001b[0m\n\u001b[1;32m   1233\u001b[0m                         \u001b[0mins_batch\u001b[0m\u001b[0;34m[\u001b[0m\u001b[0mi\u001b[0m\u001b[0;34m]\u001b[0m \u001b[0;34m=\u001b[0m \u001b[0mins_batch\u001b[0m\u001b[0;34m[\u001b[0m\u001b[0mi\u001b[0m\u001b[0;34m]\u001b[0m\u001b[0;34m.\u001b[0m\u001b[0mtoarray\u001b[0m\u001b[0;34m(\u001b[0m\u001b[0;34m)\u001b[0m\u001b[0;34m\u001b[0m\u001b[0m\n\u001b[1;32m   1234\u001b[0m \u001b[0;34m\u001b[0m\u001b[0m\n\u001b[0;32m-> 1235\u001b[0;31m                     \u001b[0mouts\u001b[0m \u001b[0;34m=\u001b[0m \u001b[0mf\u001b[0m\u001b[0;34m(\u001b[0m\u001b[0mins_batch\u001b[0m\u001b[0;34m)\u001b[0m\u001b[0;34m\u001b[0m\u001b[0m\n\u001b[0m\u001b[1;32m   1236\u001b[0m                     \u001b[0;32mif\u001b[0m \u001b[0;32mnot\u001b[0m \u001b[0misinstance\u001b[0m\u001b[0;34m(\u001b[0m\u001b[0mouts\u001b[0m\u001b[0;34m,\u001b[0m \u001b[0mlist\u001b[0m\u001b[0;34m)\u001b[0m\u001b[0;34m:\u001b[0m\u001b[0;34m\u001b[0m\u001b[0m\n\u001b[1;32m   1237\u001b[0m                         \u001b[0mouts\u001b[0m \u001b[0;34m=\u001b[0m \u001b[0;34m[\u001b[0m\u001b[0mouts\u001b[0m\u001b[0;34m]\u001b[0m\u001b[0;34m\u001b[0m\u001b[0m\n",
      "\u001b[0;32m~/.local/lib/python3.5/site-packages/keras/backend/tensorflow_backend.py\u001b[0m in \u001b[0;36m__call__\u001b[0;34m(self, inputs)\u001b[0m\n\u001b[1;32m   2473\u001b[0m         \u001b[0msession\u001b[0m \u001b[0;34m=\u001b[0m \u001b[0mget_session\u001b[0m\u001b[0;34m(\u001b[0m\u001b[0;34m)\u001b[0m\u001b[0;34m\u001b[0m\u001b[0m\n\u001b[1;32m   2474\u001b[0m         updated = session.run(fetches=fetches, feed_dict=feed_dict,\n\u001b[0;32m-> 2475\u001b[0;31m                               **self.session_kwargs)\n\u001b[0m\u001b[1;32m   2476\u001b[0m         \u001b[0;32mreturn\u001b[0m \u001b[0mupdated\u001b[0m\u001b[0;34m[\u001b[0m\u001b[0;34m:\u001b[0m\u001b[0mlen\u001b[0m\u001b[0;34m(\u001b[0m\u001b[0mself\u001b[0m\u001b[0;34m.\u001b[0m\u001b[0moutputs\u001b[0m\u001b[0;34m)\u001b[0m\u001b[0;34m]\u001b[0m\u001b[0;34m\u001b[0m\u001b[0m\n\u001b[1;32m   2477\u001b[0m \u001b[0;34m\u001b[0m\u001b[0m\n",
      "\u001b[0;32m~/.local/lib/python3.5/site-packages/tensorflow/python/client/session.py\u001b[0m in \u001b[0;36mrun\u001b[0;34m(self, fetches, feed_dict, options, run_metadata)\u001b[0m\n\u001b[1;32m    903\u001b[0m     \u001b[0;32mtry\u001b[0m\u001b[0;34m:\u001b[0m\u001b[0;34m\u001b[0m\u001b[0m\n\u001b[1;32m    904\u001b[0m       result = self._run(None, fetches, feed_dict, options_ptr,\n\u001b[0;32m--> 905\u001b[0;31m                          run_metadata_ptr)\n\u001b[0m\u001b[1;32m    906\u001b[0m       \u001b[0;32mif\u001b[0m \u001b[0mrun_metadata\u001b[0m\u001b[0;34m:\u001b[0m\u001b[0;34m\u001b[0m\u001b[0m\n\u001b[1;32m    907\u001b[0m         \u001b[0mproto_data\u001b[0m \u001b[0;34m=\u001b[0m \u001b[0mtf_session\u001b[0m\u001b[0;34m.\u001b[0m\u001b[0mTF_GetBuffer\u001b[0m\u001b[0;34m(\u001b[0m\u001b[0mrun_metadata_ptr\u001b[0m\u001b[0;34m)\u001b[0m\u001b[0;34m\u001b[0m\u001b[0m\n",
      "\u001b[0;32m~/.local/lib/python3.5/site-packages/tensorflow/python/client/session.py\u001b[0m in \u001b[0;36m_run\u001b[0;34m(self, handle, fetches, feed_dict, options, run_metadata)\u001b[0m\n\u001b[1;32m   1135\u001b[0m     \u001b[0;32mif\u001b[0m \u001b[0mfinal_fetches\u001b[0m \u001b[0;32mor\u001b[0m \u001b[0mfinal_targets\u001b[0m \u001b[0;32mor\u001b[0m \u001b[0;34m(\u001b[0m\u001b[0mhandle\u001b[0m \u001b[0;32mand\u001b[0m \u001b[0mfeed_dict_tensor\u001b[0m\u001b[0;34m)\u001b[0m\u001b[0;34m:\u001b[0m\u001b[0;34m\u001b[0m\u001b[0m\n\u001b[1;32m   1136\u001b[0m       results = self._do_run(handle, final_targets, final_fetches,\n\u001b[0;32m-> 1137\u001b[0;31m                              feed_dict_tensor, options, run_metadata)\n\u001b[0m\u001b[1;32m   1138\u001b[0m     \u001b[0;32melse\u001b[0m\u001b[0;34m:\u001b[0m\u001b[0;34m\u001b[0m\u001b[0m\n\u001b[1;32m   1139\u001b[0m       \u001b[0mresults\u001b[0m \u001b[0;34m=\u001b[0m \u001b[0;34m[\u001b[0m\u001b[0;34m]\u001b[0m\u001b[0;34m\u001b[0m\u001b[0m\n",
      "\u001b[0;32m~/.local/lib/python3.5/site-packages/tensorflow/python/client/session.py\u001b[0m in \u001b[0;36m_do_run\u001b[0;34m(self, handle, target_list, fetch_list, feed_dict, options, run_metadata)\u001b[0m\n\u001b[1;32m   1353\u001b[0m     \u001b[0;32mif\u001b[0m \u001b[0mhandle\u001b[0m \u001b[0;32mis\u001b[0m \u001b[0;32mNone\u001b[0m\u001b[0;34m:\u001b[0m\u001b[0;34m\u001b[0m\u001b[0m\n\u001b[1;32m   1354\u001b[0m       return self._do_call(_run_fn, self._session, feeds, fetches, targets,\n\u001b[0;32m-> 1355\u001b[0;31m                            options, run_metadata)\n\u001b[0m\u001b[1;32m   1356\u001b[0m     \u001b[0;32melse\u001b[0m\u001b[0;34m:\u001b[0m\u001b[0;34m\u001b[0m\u001b[0m\n\u001b[1;32m   1357\u001b[0m       \u001b[0;32mreturn\u001b[0m \u001b[0mself\u001b[0m\u001b[0;34m.\u001b[0m\u001b[0m_do_call\u001b[0m\u001b[0;34m(\u001b[0m\u001b[0m_prun_fn\u001b[0m\u001b[0;34m,\u001b[0m \u001b[0mself\u001b[0m\u001b[0;34m.\u001b[0m\u001b[0m_session\u001b[0m\u001b[0;34m,\u001b[0m \u001b[0mhandle\u001b[0m\u001b[0;34m,\u001b[0m \u001b[0mfeeds\u001b[0m\u001b[0;34m,\u001b[0m \u001b[0mfetches\u001b[0m\u001b[0;34m)\u001b[0m\u001b[0;34m\u001b[0m\u001b[0m\n",
      "\u001b[0;32m~/.local/lib/python3.5/site-packages/tensorflow/python/client/session.py\u001b[0m in \u001b[0;36m_do_call\u001b[0;34m(self, fn, *args)\u001b[0m\n\u001b[1;32m   1359\u001b[0m   \u001b[0;32mdef\u001b[0m \u001b[0m_do_call\u001b[0m\u001b[0;34m(\u001b[0m\u001b[0mself\u001b[0m\u001b[0;34m,\u001b[0m \u001b[0mfn\u001b[0m\u001b[0;34m,\u001b[0m \u001b[0;34m*\u001b[0m\u001b[0margs\u001b[0m\u001b[0;34m)\u001b[0m\u001b[0;34m:\u001b[0m\u001b[0;34m\u001b[0m\u001b[0m\n\u001b[1;32m   1360\u001b[0m     \u001b[0;32mtry\u001b[0m\u001b[0;34m:\u001b[0m\u001b[0;34m\u001b[0m\u001b[0m\n\u001b[0;32m-> 1361\u001b[0;31m       \u001b[0;32mreturn\u001b[0m \u001b[0mfn\u001b[0m\u001b[0;34m(\u001b[0m\u001b[0;34m*\u001b[0m\u001b[0margs\u001b[0m\u001b[0;34m)\u001b[0m\u001b[0;34m\u001b[0m\u001b[0m\n\u001b[0m\u001b[1;32m   1362\u001b[0m     \u001b[0;32mexcept\u001b[0m \u001b[0merrors\u001b[0m\u001b[0;34m.\u001b[0m\u001b[0mOpError\u001b[0m \u001b[0;32mas\u001b[0m \u001b[0me\u001b[0m\u001b[0;34m:\u001b[0m\u001b[0;34m\u001b[0m\u001b[0m\n\u001b[1;32m   1363\u001b[0m       \u001b[0mmessage\u001b[0m \u001b[0;34m=\u001b[0m \u001b[0mcompat\u001b[0m\u001b[0;34m.\u001b[0m\u001b[0mas_text\u001b[0m\u001b[0;34m(\u001b[0m\u001b[0me\u001b[0m\u001b[0;34m.\u001b[0m\u001b[0mmessage\u001b[0m\u001b[0;34m)\u001b[0m\u001b[0;34m\u001b[0m\u001b[0m\n",
      "\u001b[0;32m~/.local/lib/python3.5/site-packages/tensorflow/python/client/session.py\u001b[0m in \u001b[0;36m_run_fn\u001b[0;34m(session, feed_dict, fetch_list, target_list, options, run_metadata)\u001b[0m\n\u001b[1;32m   1338\u001b[0m         \u001b[0;32melse\u001b[0m\u001b[0;34m:\u001b[0m\u001b[0;34m\u001b[0m\u001b[0m\n\u001b[1;32m   1339\u001b[0m           return tf_session.TF_Run(session, options, feed_dict, fetch_list,\n\u001b[0;32m-> 1340\u001b[0;31m                                    target_list, status, run_metadata)\n\u001b[0m\u001b[1;32m   1341\u001b[0m \u001b[0;34m\u001b[0m\u001b[0m\n\u001b[1;32m   1342\u001b[0m     \u001b[0;32mdef\u001b[0m \u001b[0m_prun_fn\u001b[0m\u001b[0;34m(\u001b[0m\u001b[0msession\u001b[0m\u001b[0;34m,\u001b[0m \u001b[0mhandle\u001b[0m\u001b[0;34m,\u001b[0m \u001b[0mfeed_dict\u001b[0m\u001b[0;34m,\u001b[0m \u001b[0mfetch_list\u001b[0m\u001b[0;34m)\u001b[0m\u001b[0;34m:\u001b[0m\u001b[0;34m\u001b[0m\u001b[0m\n",
      "\u001b[0;31mKeyboardInterrupt\u001b[0m: "
     ]
    }
   ],
   "source": [
    "model = Sequential()\n",
    "model.add(Embedding(VOCABULARY_SIZE, EMBEDDING_DIM, input_length=TEXT_LENGTH))\n",
    "model.add(Flatten())\n",
    "model.add(Dense(128, input_shape=(MAX_FEATURES,), activation = 'relu'))\n",
    "model.add(Dropout(0.1))\n",
    "model.add(Dense(5, activation = 'softmax'))\n",
    "model.compile(optimizer='adam', loss='binary_crossentropy', metrics=['acc'])\n",
    "model.compile(loss='categorical_crossentropy', optimizer='adam', metrics=['accuracy'])\n",
    "model.fit(X_train, y_train, epochs=1000, batch_size=batch_size,  validation_split=0.1)"
   ]
  },
  {
   "cell_type": "code",
   "execution_count": 16,
   "metadata": {
    "slideshow": {
     "slide_type": "subslide"
    }
   },
   "outputs": [
    {
     "name": "stderr",
     "output_type": "stream",
     "text": [
      "/home/ec/.local/lib/python3.5/site-packages/sklearn/preprocessing/label.py:151: DeprecationWarning: The truth value of an empty array is ambiguous. Returning False, but in future this will result in an error. Use `array.size > 0` to check that an array is not empty.\n",
      "  if diff:\n"
     ]
    }
   ],
   "source": [
    "y_pred = model.predict_classes(X_test)\n",
    "y_pred = le.inverse_transform(y_pred)"
   ]
  },
  {
   "cell_type": "code",
   "execution_count": 17,
   "metadata": {},
   "outputs": [
    {
     "name": "stdout",
     "output_type": "stream",
     "text": [
      "             precision    recall  f1-score   support\n",
      "\n",
      "   Культура       0.82      0.90      0.86        10\n",
      "   Общество       0.80      0.40      0.53        10\n",
      "   Политика       0.45      0.90      0.60        10\n",
      "      Спорт       0.91      1.00      0.95        10\n",
      "  Экономика       1.00      0.30      0.46        10\n",
      "\n",
      "avg / total       0.80      0.70      0.68        50\n",
      "\n"
     ]
    },
    {
     "data": {
      "image/png": "[encoded data removed]",
      "text/plain": [
       "<matplotlib.figure.Figure at 0x7f708850fba8>"
      ]
     },
     "metadata": {},
     "output_type": "display_data"
    }
   ],
   "source": [
    "print(classification_report(y_true, y_pred))\n",
    "sns.heatmap(data=confusion_matrix(y_true, y_pred, labels = labels), annot=True, fmt=\"d\", cbar=False, xticklabels=labels, yticklabels=labels)\n",
    "plt.title(\"Confusion matrix\")\n",
    "plt.show()"
   ]
  },
  {
   "cell_type": "code",
   "execution_count": 26,
   "metadata": {
    "slideshow": {
     "slide_type": "subslide"
    }
   },
   "outputs": [
    {
     "name": "stdout",
     "output_type": "stream",
     "text": [
      "CPU times: user 4.06 s, sys: 88 ms, total: 4.15 s\n",
      "Wall time: 4.11 s\n"
     ]
    }
   ],
   "source": [
    "%%time\n",
    "\n",
    "import numpy as np\n",
    "emb_path = '/home/ec/aemelianov/nlp-mipt/hw3/ru.vec'\n",
    "\n",
    "words = []\n",
    "\n",
    "embeddings_index = {}\n",
    "f = open(emb_path)\n",
    "for line in f:\n",
    "    values = line.split()\n",
    "    if len(values) == 301:\n",
    "        word = values[0]\n",
    "        words.append(word)\n",
    "        coefs = np.asarray(values[1:], dtype='float32')\n",
    "        embeddings_index[word] = coefs\n",
    "f.close()"
   ]
  },
  {
   "cell_type": "code",
   "execution_count": 27,
   "metadata": {},
   "outputs": [
    {
     "name": "stdout",
     "output_type": "stream",
     "text": [
      "50103\n"
     ]
    }
   ],
   "source": [
    "print(len(embeddings_index))"
   ]
  },
  {
   "cell_type": "code",
   "execution_count": 28,
   "metadata": {},
   "outputs": [
    {
     "data": {
      "text/plain": [
       "14823"
      ]
     },
     "execution_count": 28,
     "metadata": {},
     "output_type": "execute_result"
    }
   ],
   "source": [
    "word_index = tokenizer.word_index\n",
    "len(word_index)"
   ]
  },
  {
   "cell_type": "code",
   "execution_count": 30,
   "metadata": {},
   "outputs": [],
   "source": [
    "embedding_matrix = np.zeros((len(word_index) + 1, 300))\n",
    "for word, i in word_index.items():\n",
    "    embedding_vector = embeddings_index.get(word)\n",
    "    if embedding_vector is not None:\n",
    "        # words not found in embedding index will be all-zeros.\n",
    "        embedding_matrix[i] = embedding_vector"
   ]
  },
  {
   "cell_type": "code",
   "execution_count": 32,
   "metadata": {},
   "outputs": [
    {
     "name": "stdout",
     "output_type": "stream",
     "text": [
      "Train on 450 samples, validate on 50 samples\n",
      "Epoch 1/10\n",
      "450/450 [==============================] - 0s 702us/step - loss: 1.2581 - acc: 0.5556 - val_loss: 0.9239 - val_acc: 0.5800\n",
      "Epoch 2/10\n",
      "450/450 [==============================] - 0s 211us/step - loss: 0.1527 - acc: 0.9733 - val_loss: 2.2076 - val_acc: 0.3200\n",
      "Epoch 3/10\n",
      "450/450 [==============================] - 0s 209us/step - loss: 0.0334 - acc: 1.0000 - val_loss: 3.6835 - val_acc: 0.1200\n",
      "Epoch 4/10\n",
      "450/450 [==============================] - 0s 208us/step - loss: 0.0142 - acc: 1.0000 - val_loss: 3.3971 - val_acc: 0.1800\n",
      "Epoch 5/10\n",
      "450/450 [==============================] - 0s 207us/step - loss: 0.0099 - acc: 1.0000 - val_loss: 3.1034 - val_acc: 0.2200\n",
      "Epoch 6/10\n",
      "450/450 [==============================] - 0s 213us/step - loss: 0.0077 - acc: 1.0000 - val_loss: 3.0325 - val_acc: 0.2200\n",
      "Epoch 7/10\n",
      "450/450 [==============================] - 0s 217us/step - loss: 0.0067 - acc: 1.0000 - val_loss: 3.0162 - val_acc: 0.2400\n",
      "Epoch 8/10\n",
      "450/450 [==============================] - 0s 208us/step - loss: 0.0058 - acc: 1.0000 - val_loss: 3.0449 - val_acc: 0.2400\n",
      "Epoch 9/10\n",
      "450/450 [==============================] - 0s 206us/step - loss: 0.0051 - acc: 1.0000 - val_loss: 3.0175 - val_acc: 0.2400\n",
      "Epoch 10/10\n",
      "450/450 [==============================] - 0s 211us/step - loss: 0.0046 - acc: 1.0000 - val_loss: 2.9735 - val_acc: 0.2400\n"
     ]
    },
    {
     "data": {
      "text/plain": [
       "<keras.callbacks.History at 0x7f708851d940>"
      ]
     },
     "execution_count": 32,
     "metadata": {},
     "output_type": "execute_result"
    }
   ],
   "source": [
    "model = Sequential()\n",
    "model.add(Embedding(len(word_index) + 1,\n",
    "                            300,\n",
    "                            weights=[embedding_matrix],\n",
    "                            input_length=TEXT_LENGTH,\n",
    "                            trainable=False))\n",
    "model.add(Flatten())\n",
    "model.add(Dense(5, activation = 'softmax'))\n",
    "model.compile(optimizer='adam', loss='binary_crossentropy', metrics=['acc'])\n",
    "model.compile(loss='categorical_crossentropy', optimizer='adam', metrics=['accuracy'])\n",
    "model.fit(X_train, y_train, epochs=nb_epoch, batch_size=batch_size,  validation_split=0.1)"
   ]
  },
  {
   "cell_type": "code",
   "execution_count": 33,
   "metadata": {},
   "outputs": [
    {
     "name": "stderr",
     "output_type": "stream",
     "text": [
      "/home/ec/.local/lib/python3.5/site-packages/sklearn/preprocessing/label.py:151: DeprecationWarning: The truth value of an empty array is ambiguous. Returning False, but in future this will result in an error. Use `array.size > 0` to check that an array is not empty.\n",
      "  if diff:\n"
     ]
    }
   ],
   "source": [
    "y_pred = model.predict_classes(X_test)\n",
    "y_pred = le.inverse_transform(y_pred)"
   ]
  },
  {
   "cell_type": "code",
   "execution_count": 34,
   "metadata": {
    "slideshow": {
     "slide_type": "subslide"
    }
   },
   "outputs": [
    {
     "name": "stdout",
     "output_type": "stream",
     "text": [
      "             precision    recall  f1-score   support\n",
      "\n",
      "   Культура       0.89      0.80      0.84        10\n",
      "   Общество       0.50      0.60      0.55        10\n",
      "   Политика       0.53      0.90      0.67        10\n",
      "      Спорт       0.91      1.00      0.95        10\n",
      "  Экономика       1.00      0.10      0.18        10\n",
      "\n",
      "avg / total       0.77      0.68      0.64        50\n",
      "\n"
     ]
    },
    {
     "data": {
      "image/png": "[encoded data removed]",
      "text/plain": [
       "<matplotlib.figure.Figure at 0x7f7088e66dd8>"
      ]
     },
     "metadata": {},
     "output_type": "display_data"
    }
   ],
   "source": [
    "print(classification_report(y_true, y_pred))\n",
    "sns.heatmap(data=confusion_matrix(y_true, y_pred, labels = labels), annot=True, fmt=\"d\", cbar=False, xticklabels=labels, yticklabels=labels)\n",
    "plt.title(\"Confusion matrix\")\n",
    "plt.show()"
   ]
  },
  {
   "cell_type": "markdown",
   "metadata": {
    "slideshow": {
     "slide_type": "slide"
    }
   },
   "source": [
    "## Сверточные нейронные сети [Convolutional neural networks, CNN]\n",
    "\n",
    "* Заимствованы из области компьютерного зрения\n",
    "* Пик популярности пришелся на 2014 (до +10% аккуратности в задачах классификации), со временем были вытеснены рекуррентными нейронными сетями \n",
    "* Помогают справится  с проблемой переменной длины входов (CNN VS window-based NN)"
   ]
  },
  {
   "cell_type": "code",
   "execution_count": 38,
   "metadata": {
    "slideshow": {
     "slide_type": "slide"
    }
   },
   "outputs": [
    {
     "name": "stdout",
     "output_type": "stream",
     "text": [
      "Train on 450 samples, validate on 50 samples\n",
      "Epoch 1/10\n",
      "450/450 [==============================] - 3s 7ms/step - loss: 1.6129 - acc: 0.2689 - val_loss: 2.2324 - val_acc: 0.0000e+00\n",
      "Epoch 2/10\n",
      "450/450 [==============================] - 1s 2ms/step - loss: 1.3041 - acc: 0.4933 - val_loss: 2.1466 - val_acc: 0.0000e+00\n",
      "Epoch 3/10\n",
      "450/450 [==============================] - 1s 2ms/step - loss: 0.9401 - acc: 0.6511 - val_loss: 2.3902 - val_acc: 0.0000e+00\n",
      "Epoch 4/10\n",
      "450/450 [==============================] - 1s 2ms/step - loss: 0.5308 - acc: 0.9200 - val_loss: 1.1018 - val_acc: 0.5600\n",
      "Epoch 5/10\n",
      "450/450 [==============================] - 1s 2ms/step - loss: 0.2178 - acc: 0.9533 - val_loss: 1.7264 - val_acc: 0.2000\n",
      "Epoch 6/10\n",
      "450/450 [==============================] - 1s 2ms/step - loss: 0.0650 - acc: 0.9933 - val_loss: 1.1686 - val_acc: 0.6400\n",
      "Epoch 7/10\n",
      "450/450 [==============================] - 1s 2ms/step - loss: 0.0184 - acc: 1.0000 - val_loss: 1.9198 - val_acc: 0.3600\n",
      "Epoch 8/10\n",
      "450/450 [==============================] - 1s 2ms/step - loss: 0.0076 - acc: 1.0000 - val_loss: 1.0828 - val_acc: 0.6200\n",
      "Epoch 9/10\n",
      "450/450 [==============================] - 1s 2ms/step - loss: 0.0041 - acc: 1.0000 - val_loss: 1.4624 - val_acc: 0.5000\n",
      "Epoch 10/10\n",
      "450/450 [==============================] - 1s 2ms/step - loss: 0.0030 - acc: 1.0000 - val_loss: 1.3990 - val_acc: 0.5400\n"
     ]
    },
    {
     "data": {
      "text/plain": [
       "<keras.callbacks.History at 0x7f7080144358>"
      ]
     },
     "execution_count": 38,
     "metadata": {},
     "output_type": "execute_result"
    }
   ],
   "source": [
    "model = Sequential()\n",
    "model.add(Embedding(VOCABULARY_SIZE,\n",
    "                            300,\n",
    "                            input_length=TEXT_LENGTH,\n",
    "                            trainable=True))\n",
    "model.add(Conv1D(128, 5, activation='relu'))\n",
    "model.add(MaxPooling1D())\n",
    "model.add(Dropout(0.2))\n",
    "model.add(Flatten())\n",
    "model.add(Dense(5, activation = 'softmax'))\n",
    "model.compile(optimizer='adam', loss='binary_crossentropy', metrics=['acc'])\n",
    "model.compile(loss='categorical_crossentropy', optimizer='adam', metrics=['accuracy'])\n",
    "model.fit(X_train, y_train, epochs=nb_epoch, batch_size=batch_size,  validation_split=0.1)"
   ]
  },
  {
   "cell_type": "code",
   "execution_count": 39,
   "metadata": {
    "slideshow": {
     "slide_type": "subslide"
    }
   },
   "outputs": [
    {
     "name": "stderr",
     "output_type": "stream",
     "text": [
      "/home/ec/.local/lib/python3.5/site-packages/sklearn/preprocessing/label.py:151: DeprecationWarning: The truth value of an empty array is ambiguous. Returning False, but in future this will result in an error. Use `array.size > 0` to check that an array is not empty.\n",
      "  if diff:\n"
     ]
    }
   ],
   "source": [
    "y_pred = model.predict_classes(X_test)\n",
    "y_pred = le.inverse_transform(y_pred)"
   ]
  },
  {
   "cell_type": "code",
   "execution_count": 42,
   "metadata": {},
   "outputs": [
    {
     "name": "stdout",
     "output_type": "stream",
     "text": [
      "50/50 [==============================] - 0s 355us/step\n"
     ]
    },
    {
     "data": {
      "text/plain": [
       "[1.021263918876648, 0.7200000071525574]"
      ]
     },
     "execution_count": 42,
     "metadata": {},
     "output_type": "execute_result"
    }
   ],
   "source": [
    "model.evaluate(X_test, y_test)"
   ]
  },
  {
   "cell_type": "code",
   "execution_count": 40,
   "metadata": {
    "slideshow": {
     "slide_type": "slide"
    }
   },
   "outputs": [
    {
     "name": "stdout",
     "output_type": "stream",
     "text": [
      "             precision    recall  f1-score   support\n",
      "\n",
      "   Культура       0.69      0.90      0.78        10\n",
      "   Общество       0.71      0.50      0.59        10\n",
      "   Политика       0.57      0.80      0.67        10\n",
      "      Спорт       1.00      1.00      1.00        10\n",
      "  Экономика       0.67      0.40      0.50        10\n",
      "\n",
      "avg / total       0.73      0.72      0.71        50\n",
      "\n"
     ]
    },
    {
     "data": {
      "image/png": "[encoded data removed]",
      "text/plain": [
       "<matplotlib.figure.Figure at 0x7f7088e07ef0>"
      ]
     },
     "metadata": {},
     "output_type": "display_data"
    }
   ],
   "source": [
    "print(classification_report(y_true, y_pred))\n",
    "sns.heatmap(data=confusion_matrix(y_true, y_pred, labels = labels), annot=True, fmt=\"d\", cbar=False, xticklabels=labels, yticklabels=labels)\n",
    "plt.title(\"Confusion matrix\")\n",
    "plt.show()"
   ]
  }
 ],
 "metadata": {
  "celltoolbar": "Slideshow",
  "kernelspec": {
   "display_name": "Python 3",
   "language": "python",
   "name": "python3"
  },
  "language_info": {
   "codemirror_mode": {
    "name": "ipython",
    "version": 3
   },
   "file_extension": ".py",
   "mimetype": "text/x-python",
   "name": "python",
   "nbconvert_exporter": "python",
   "pygments_lexer": "ipython3",
   "version": "3.5.2"
  }
 },
 "nbformat": 4,
 "nbformat_minor": 2
}
