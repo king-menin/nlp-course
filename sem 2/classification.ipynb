{
  "nbformat": 4,
  "nbformat_minor": 0,
  "metadata": {
    "colab": {
      "name": "classification.ipynb",
      "version": "0.3.2",
      "views": {},
      "default_view": {},
      "provenance": [],
      "collapsed_sections": []
    },
    "kernelspec": {
      "display_name": "Python 3",
      "language": "python",
      "name": "python3"
    }
  },
  "cells": [
    {
      "metadata": {
        "id": "CfJLeRbdn1jq",
        "colab_type": "text"
      },
      "cell_type": "markdown",
      "source": [
        "### Настройка гугл диска для работы с данными\n",
        "\n",
        "Скопируйте себе этот файл на гугл диск. Установите приложение colaboratory (https://medium.com/deep-learning-turkey/google-colab-free-gpu-tutorial-e113627b9f5d)\n",
        "\n",
        "Далее выполните следующие инструкции"
      ]
    },
    {
      "metadata": {
        "id": "o8JFOEBslmbP",
        "colab_type": "code",
        "colab": {
          "autoexec": {
            "startup": false,
            "wait_interval": 0
          }
        }
      },
      "cell_type": "code",
      "source": [
        "!apt-get install -y -qq software-properties-common python-software-properties module-init-tools\n",
        "!add-apt-repository -y ppa:alessandro-strada/ppa 2>&1 > /dev/null\n",
        "!apt-get update -qq 2>&1 > /dev/null\n",
        "!apt-get -y install -qq google-drive-ocamlfuse fuse\n",
        "from google.colab import auth\n",
        "auth.authenticate_user()\n",
        "from oauth2client.client import GoogleCredentials\n",
        "creds = GoogleCredentials.get_application_default()\n",
        "import getpass\n",
        "!google-drive-ocamlfuse -headless -id={creds.client_id} -secret={creds.client_secret} < /dev/null 2>&1 | grep URL\n",
        "vcode = getpass.getpass()\n",
        "!echo {vcode} | google-drive-ocamlfuse -headless -id={creds.client_id} -secret={creds.client_secret}"
      ],
      "execution_count": 0,
      "outputs": []
    },
    {
      "metadata": {
        "id": "y0LJi-VPol3d",
        "colab_type": "code",
        "colab": {
          "autoexec": {
            "startup": false,
            "wait_interval": 0
          }
        }
      },
      "cell_type": "code",
      "source": [
        "!mkdir -p drive\n",
        "!google-drive-ocamlfuse drive"
      ],
      "execution_count": 0,
      "outputs": []
    },
    {
      "metadata": {
        "id": "jR-8SsTVpL9Z",
        "colab_type": "text"
      },
      "cell_type": "markdown",
      "source": [
        "Найдите ваши файлы на диске. Этот путь будет дальше использоваться (тут надо указать свой путь к файлам!)\n",
        "загрузите в файл dinos.txt из репозитория: "
      ]
    },
    {
      "metadata": {
        "id": "O4a8Jv63oqBn",
        "colab_type": "code",
        "colab": {
          "autoexec": {
            "startup": false,
            "wait_interval": 0
          },
          "base_uri": "https://localhost:8080/",
          "height": 34
        },
        "outputId": "cd7b2db5-7e3d-4647-bfc8-b8649f9acb68",
        "executionInfo": {
          "status": "ok",
          "timestamp": 1524883598810,
          "user_tz": -240,
          "elapsed": 2348,
          "user": {
            "displayName": "Антон Александрович",
            "photoUrl": "https://lh3.googleusercontent.com/a/default-user=s128",
            "userId": "114534192163284934370"
          }
        }
      },
      "cell_type": "code",
      "source": [
        "!ls \"drive/Colab Notebooks/nlp-hse/classification\""
      ],
      "execution_count": 5,
      "outputs": [
        {
          "output_type": "stream",
          "text": [
            "classification.ipynb  data-train.txt\r\n"
          ],
          "name": "stdout"
        }
      ]
    },
    {
      "metadata": {
        "id": "gAbeD3597W6G",
        "colab_type": "code",
        "colab": {
          "autoexec": {
            "startup": false,
            "wait_interval": 0
          }
        }
      },
      "cell_type": "code",
      "source": [
        "work_path = \"drive/Colab Notebooks/nlp-hse/classification/\""
      ],
      "execution_count": 0,
      "outputs": []
    },
    {
      "metadata": {
        "id": "adMzr-XwQ7pO",
        "colab_type": "code",
        "colab": {
          "autoexec": {
            "startup": false,
            "wait_interval": 0
          }
        }
      },
      "cell_type": "code",
      "source": [
        "!pip install fasttext"
      ],
      "execution_count": 0,
      "outputs": []
    },
    {
      "metadata": {
        "id": "zcdYZfiXIpgX",
        "colab_type": "text"
      },
      "cell_type": "markdown",
      "source": [
        "# Классификация текстов\n",
        "Вам предстоит написать свой классификатор текстов."
      ]
    },
    {
      "metadata": {
        "id": "5iOd9GUQIpgP",
        "colab_type": "code",
        "colab": {
          "autoexec": {
            "startup": false,
            "wait_interval": 0
          }
        }
      },
      "cell_type": "code",
      "source": [
        "import warnings\n",
        "warnings.filterwarnings('ignore')"
      ],
      "execution_count": 0,
      "outputs": []
    },
    {
      "metadata": {
        "id": "-ir0T9g4IpgU",
        "colab_type": "code",
        "colab": {
          "autoexec": {
            "startup": false,
            "wait_interval": 0
          },
          "base_uri": "https://localhost:8080/",
          "height": 71
        },
        "outputId": "e43e77dd-fe89-4e3c-8f96-d415c3ad034d",
        "executionInfo": {
          "status": "ok",
          "timestamp": 1524883621765,
          "user_tz": -240,
          "elapsed": 626,
          "user": {
            "displayName": "Антон Александрович",
            "photoUrl": "https://lh3.googleusercontent.com/a/default-user=s128",
            "userId": "114534192163284934370"
          }
        }
      },
      "cell_type": "code",
      "source": [
        "import pandas as pd\n",
        "import numpy as np\n",
        "from sklearn.cross_validation import KFold\n",
        "import seaborn as sns\n",
        "import string\n",
        "from sklearn.metrics import accuracy_score, f1_score, recall_score, precision_score\n",
        "\n",
        "import matplotlib.pyplot as plt\n",
        "%matplotlib inline"
      ],
      "execution_count": 8,
      "outputs": [
        {
          "output_type": "stream",
          "text": [
            "/usr/local/lib/python3.6/dist-packages/sklearn/cross_validation.py:41: DeprecationWarning: This module was deprecated in version 0.18 in favor of the model_selection module into which all the refactored classes and functions are moved. Also note that the interface of the new CV iterators are different from that of this module. This module will be removed in 0.20.\n",
            "  \"This module will be removed in 0.20.\", DeprecationWarning)\n"
          ],
          "name": "stderr"
        }
      ]
    },
    {
      "metadata": {
        "id": "YMftQYdvIpgY",
        "colab_type": "text"
      },
      "cell_type": "markdown",
      "source": [
        "### Читаем данные"
      ]
    },
    {
      "metadata": {
        "id": "fmtwsbSOIpgZ",
        "colab_type": "code",
        "colab": {
          "autoexec": {
            "startup": false,
            "wait_interval": 0
          },
          "base_uri": "https://localhost:8080/",
          "height": 204
        },
        "outputId": "a510edc7-7c1b-4b16-8b9c-d3a4fe8dfafd",
        "executionInfo": {
          "status": "ok",
          "timestamp": 1524883805052,
          "user_tz": -240,
          "elapsed": 49162,
          "user": {
            "displayName": "Антон Александрович",
            "photoUrl": "https://lh3.googleusercontent.com/a/default-user=s128",
            "userId": "114534192163284934370"
          }
        }
      },
      "cell_type": "code",
      "source": [
        "data = pd.read_csv(work_path + 'data-train.txt', sep = '\\t')\n",
        "data.head()"
      ],
      "execution_count": 13,
      "outputs": [
        {
          "output_type": "execute_result",
          "data": {
            "text/html": [
              "<div>\n",
              "<style scoped>\n",
              "    .dataframe tbody tr th:only-of-type {\n",
              "        vertical-align: middle;\n",
              "    }\n",
              "\n",
              "    .dataframe tbody tr th {\n",
              "        vertical-align: top;\n",
              "    }\n",
              "\n",
              "    .dataframe thead th {\n",
              "        text-align: right;\n",
              "    }\n",
              "</style>\n",
              "<table border=\"1\" class=\"dataframe\">\n",
              "  <thead>\n",
              "    <tr style=\"text-align: right;\">\n",
              "      <th></th>\n",
              "      <th>lang</th>\n",
              "      <th>text</th>\n",
              "    </tr>\n",
              "  </thead>\n",
              "  <tbody>\n",
              "    <tr>\n",
              "      <th>0</th>\n",
              "      <td>ru</td>\n",
              "      <td>Притом же это республиканское устройство бурсы...</td>\n",
              "    </tr>\n",
              "    <tr>\n",
              "      <th>1</th>\n",
              "      <td>ru</td>\n",
              "      <td>Ты упомянул о том, что могло бы привести меня ...</td>\n",
              "    </tr>\n",
              "    <tr>\n",
              "      <th>2</th>\n",
              "      <td>uk</td>\n",
              "      <td>«Отже йому і спиться, і байдуже — хропе собі!....</td>\n",
              "    </tr>\n",
              "    <tr>\n",
              "      <th>3</th>\n",
              "      <td>pl</td>\n",
              "      <td>Kiedy słońce, odchodząc za horyzont, poczęło w...</td>\n",
              "    </tr>\n",
              "    <tr>\n",
              "      <th>4</th>\n",
              "      <td>ru</td>\n",
              "      <td>Странник выудил их всех, всех до единого, и с ...</td>\n",
              "    </tr>\n",
              "  </tbody>\n",
              "</table>\n",
              "</div>"
            ],
            "text/plain": [
              "  lang                                               text\n",
              "0   ru  Притом же это республиканское устройство бурсы...\n",
              "1   ru  Ты упомянул о том, что могло бы привести меня ...\n",
              "2   uk  «Отже йому і спиться, і байдуже — хропе собі!....\n",
              "3   pl  Kiedy słońce, odchodząc za horyzont, poczęło w...\n",
              "4   ru  Странник выудил их всех, всех до единого, и с ..."
            ]
          },
          "metadata": {
            "tags": []
          },
          "execution_count": 13
        }
      ]
    },
    {
      "metadata": {
        "id": "ichXYKYBIpge",
        "colab_type": "code",
        "colab": {
          "autoexec": {
            "startup": false,
            "wait_interval": 0
          }
        }
      },
      "cell_type": "code",
      "source": [
        "data.dropna(inplace=True)"
      ],
      "execution_count": 0,
      "outputs": []
    },
    {
      "metadata": {
        "id": "NAAOkZHWIpgh",
        "colab_type": "code",
        "colab": {
          "autoexec": {
            "startup": false,
            "wait_interval": 0
          }
        }
      },
      "cell_type": "code",
      "source": [
        "langs = np.unique(data.lang)"
      ],
      "execution_count": 0,
      "outputs": []
    },
    {
      "metadata": {
        "id": "ghbjtixuIpgl",
        "colab_type": "code",
        "colab": {
          "autoexec": {
            "startup": false,
            "wait_interval": 0
          },
          "base_uri": "https://localhost:8080/",
          "height": 34
        },
        "outputId": "0bad19b7-c1e4-4f3a-a9ef-c0f5bdeefdd1",
        "executionInfo": {
          "status": "ok",
          "timestamp": 1524883827036,
          "user_tz": -240,
          "elapsed": 637,
          "user": {
            "displayName": "Антон Александрович",
            "photoUrl": "https://lh3.googleusercontent.com/a/default-user=s128",
            "userId": "114534192163284934370"
          }
        }
      },
      "cell_type": "code",
      "source": [
        "len(langs)"
      ],
      "execution_count": 16,
      "outputs": [
        {
          "output_type": "execute_result",
          "data": {
            "text/plain": [
              "26"
            ]
          },
          "metadata": {
            "tags": []
          },
          "execution_count": 16
        }
      ]
    },
    {
      "metadata": {
        "id": "2M79pCHeIpgo",
        "colab_type": "text"
      },
      "cell_type": "markdown",
      "source": [
        "* Посмотрим на число примеров по классам в выборке."
      ]
    },
    {
      "metadata": {
        "id": "vd5bI3S7Ipgp",
        "colab_type": "code",
        "colab": {
          "autoexec": {
            "startup": false,
            "wait_interval": 0
          },
          "base_uri": "https://localhost:8080/",
          "height": 445
        },
        "outputId": "cf312c02-f2cf-4841-c77f-ead6a76969df",
        "executionInfo": {
          "status": "ok",
          "timestamp": 1524883841906,
          "user_tz": -240,
          "elapsed": 6228,
          "user": {
            "displayName": "Антон Александрович",
            "photoUrl": "https://lh3.googleusercontent.com/a/default-user=s128",
            "userId": "114534192163284934370"
          }
        }
      },
      "cell_type": "code",
      "source": [
        "plt.figure(figsize=(15, 7))\n",
        "data.lang.hist()"
      ],
      "execution_count": 18,
      "outputs": [
        {
          "output_type": "execute_result",
          "data": {
            "text/plain": [
              "<matplotlib.axes._subplots.AxesSubplot at 0x7f927223c550>"
            ]
          },
          "metadata": {
            "tags": []
          },
          "execution_count": 18
        },
        {
          "output_type": "display_data",
          "data": {
            "image/png": "[encoded data removed]",
            "text/plain": [
              "<matplotlib.figure.Figure at 0x7f92722e3ba8>"
            ]
          },
          "metadata": {
            "tags": []
          }
        }
      ]
    },
    {
      "metadata": {
        "id": "Y5gxHHrzIpgr",
        "colab_type": "text"
      },
      "cell_type": "markdown",
      "source": [
        "* Разобьем данные на обучающую и тестовую"
      ]
    },
    {
      "metadata": {
        "id": "DlWwo6xtIpgt",
        "colab_type": "code",
        "colab": {
          "autoexec": {
            "startup": false,
            "wait_interval": 0
          }
        }
      },
      "cell_type": "code",
      "source": [
        "from sklearn.model_selection import StratifiedShuffleSplit\n",
        "sss = StratifiedShuffleSplit(n_splits=1, test_size=0.2, random_state=0)\n",
        "train_index, test_index = next(sss.split(data.text, data.lang))\n",
        "train_data = data.iloc[train_index]\n",
        "test_data = data.iloc[test_index]"
      ],
      "execution_count": 0,
      "outputs": []
    },
    {
      "metadata": {
        "id": "MVq6EdsLIpgx",
        "colab_type": "text"
      },
      "cell_type": "markdown",
      "source": [
        "## Часть 1. Предварительная обработка данных и классификация на правилах\n",
        "\n",
        "1. Протестируйте простой принцип классификации на правилах, например: \n",
        "    * Если в тексте встречается буква \"э\", то текст относится к классу \"ru\" (написан на русском, то есть)\n",
        "    * Если в тексте встречается буква \"ł\", то текст относится к классу \"pl\" (написан на польском, то есть)\n",
        "    * И любое другое правило, которое кажется вам разумным. "
      ]
    },
    {
      "metadata": {
        "id": "DSEycfTGIpgy",
        "colab_type": "code",
        "colab": {
          "autoexec": {
            "startup": false,
            "wait_interval": 0
          }
        }
      },
      "cell_type": "code",
      "source": [
        "class RuleClassifer(object):\n",
        "    def __init__(self):\n",
        "        <your code here>\n",
        "\n",
        "    def fit(self, x_train, y_train):\n",
        "        \"\"\"\n",
        "        Метод обучает модель. может ничего не делать. Все правила могут быть заданы в predict.\n",
        "        \n",
        "        Parameters\n",
        "        ----------\n",
        "        x_train : list of str\n",
        "            Список обучающих текстов.\n",
        "        \n",
        "        y_train : list of str\n",
        "            Список меток классов (языков в нашем случае) для x_train\n",
        "            \n",
        "            \n",
        "        Returns\n",
        "        -------\n",
        "        self : object\n",
        "            Returns self\n",
        "        \"\"\"\n",
        "        <your code here>\n",
        "\n",
        "        return self\n",
        "    \n",
        "    def predict(self, text):\n",
        "        \"\"\"\n",
        "        Предсказывает метки классов (языки) для text по правилам.\n",
        "        \n",
        "        Parameters\n",
        "        ----------\n",
        "        text : list of str\n",
        "            Список строк для которых необходимо предсказать язык.\n",
        "        \n",
        "        Returns\n",
        "        -------\n",
        "        predictions : list of str\n",
        "            Возвращает список классов для text.\n",
        "        \"\"\"\n",
        "        predictions = []\n",
        "        <your code here>\n",
        "        return predictions\n",
        "\n",
        "    pass"
      ],
      "execution_count": 0,
      "outputs": []
    },
    {
      "metadata": {
        "id": "gThVXF7PIpg3",
        "colab_type": "text"
      },
      "cell_type": "markdown",
      "source": [
        "* Какова точность, полнота, аккуратность при использовании этих правил?"
      ]
    },
    {
      "metadata": {
        "id": "Mu7G5BjbIpg5",
        "colab_type": "code",
        "colab": {
          "autoexec": {
            "startup": false,
            "wait_interval": 0
          }
        }
      },
      "cell_type": "code",
      "source": [
        "rclf = RuleClassifer().fit(train_data.text, train_data.lang)\n",
        "predictions = rclf.predict(test_data.text)"
      ],
      "execution_count": 0,
      "outputs": []
    },
    {
      "metadata": {
        "id": "5i8iIqJEIpg7",
        "colab_type": "code",
        "colab": {
          "autoexec": {
            "startup": false,
            "wait_interval": 0
          }
        }
      },
      "cell_type": "code",
      "source": [
        "print(\"Precision: {0:6.5f}\".format(precision_score(test_data.lang, predictions, average='macro')))\n",
        "print(\"Recall: {0:6.5f}\".format(recall_score(test_data.lang, predictions, average='macro')))\n",
        "print(\"F1-measure: {0:6.5f}\".format(f1_score(test_data.lang, predictions, average='macro')))\n",
        "print(\"Accuracy: {0:6.2f}\".format(accuracy_score(test_data.lang, predictions)))"
      ],
      "execution_count": 0,
      "outputs": []
    },
    {
      "metadata": {
        "id": "gw8GKMCtIpg_",
        "colab_type": "text"
      },
      "cell_type": "markdown",
      "source": [
        "2 . Определим сходство языков следующим образом: пусть $A_1$ и $A_2$ – множества символов из текстов на первом и втором языке соответственно (возможно, в этом случае разумно не исключать знаки пунктуации и учитывать регистр). Сходство языков измеряется по коэффициенту Жаккара: $\\frac{A_1 \\cap A_2}{A_1 \\cup A_2}$. Постройте heatmap сходства языков. "
      ]
    },
    {
      "metadata": {
        "id": "5cz8f8NzIphA",
        "colab_type": "code",
        "colab": {
          "autoexec": {
            "startup": false,
            "wait_interval": 0
          }
        }
      },
      "cell_type": "code",
      "source": [
        "from nltk.metrics import jaccard_distance\n",
        "from itertools import combinations\n",
        "\n",
        "def get_map(<your code here>):\n",
        "    <your code here>"
      ],
      "execution_count": 0,
      "outputs": []
    },
    {
      "metadata": {
        "id": "N_8QbeObIphD",
        "colab_type": "code",
        "colab": {
          "autoexec": {
            "startup": false,
            "wait_interval": 0
          }
        }
      },
      "cell_type": "code",
      "source": [
        "hm = <your code here>"
      ],
      "execution_count": 0,
      "outputs": []
    },
    {
      "metadata": {
        "id": "OUfTOe3SIphH",
        "colab_type": "code",
        "colab": {
          "autoexec": {
            "startup": false,
            "wait_interval": 0
          }
        }
      },
      "cell_type": "code",
      "source": [
        "plt.figure(figsize=(20, 10))\n",
        "sns.heatmap(\n",
        "    data=np.array(hm.values, dtype=np.float64),\n",
        "    \n",
        "    annot=True,\n",
        "    xticklabels=langs, yticklabels=langs)\n",
        "plt.title(\"Jaccard langs index\")\n",
        "plt.show()"
      ],
      "execution_count": 0,
      "outputs": []
    },
    {
      "metadata": {
        "id": "t_bou6PYIphP",
        "colab_type": "text"
      },
      "cell_type": "markdown",
      "source": [
        "##  Часть 2. Базовый метод классификации\n",
        "\n",
        "Используйте метод наивного Байеса или логистическую регрессию для классификации текстов: в качестве признаков используйте символьные $n$-граммы. Сравните результаты, получаемые при разных $n=2,3,4$ по $F$-мере и аккуратности. Постройте диаграмму ошибок. Какие языке труднее всего разлечить? Какие проще всего?\n",
        "\n",
        "Для генерации $n$-грамм используйте:\n",
        "\n",
        "<pre>from nltk.util import ngrams</pre>\n",
        "\n",
        "или\n",
        "\n",
        "<pre>from sklearn.feature_extraction.text import CountVectorizer</pre>\n",
        "\n",
        "Для объединения процесса подготовки выборки и классификации используйте Pipeline"
      ]
    },
    {
      "metadata": {
        "id": "3Me2cbD2IphQ",
        "colab_type": "code",
        "colab": {
          "autoexec": {
            "startup": false,
            "wait_interval": 0
          }
        }
      },
      "cell_type": "code",
      "source": [
        "from sklearn.naive_bayes import MultinomialNB\n",
        "from sklearn.feature_extraction.text import CountVectorizer\n",
        "\n",
        "from sklearn.pipeline import Pipeline"
      ],
      "execution_count": 0,
      "outputs": []
    },
    {
      "metadata": {
        "id": "8A4hqBPnIphS",
        "colab_type": "code",
        "colab": {
          "autoexec": {
            "startup": false,
            "wait_interval": 0
          }
        }
      },
      "cell_type": "code",
      "source": [
        "clf = <yuor code here>"
      ],
      "execution_count": 0,
      "outputs": []
    },
    {
      "metadata": {
        "id": "2u90M3NDIphV",
        "colab_type": "text"
      },
      "cell_type": "markdown",
      "source": [
        "* Обучите модель"
      ]
    },
    {
      "metadata": {
        "id": "u2aVQ2dzIphV",
        "colab_type": "code",
        "colab": {
          "autoexec": {
            "startup": false,
            "wait_interval": 0
          }
        }
      },
      "cell_type": "code",
      "source": [
        "%%time\n",
        "clf.fit(train_data.text, train_data.lang)"
      ],
      "execution_count": 0,
      "outputs": []
    },
    {
      "metadata": {
        "id": "c7y6cFLRIphY",
        "colab_type": "text"
      },
      "cell_type": "markdown",
      "source": [
        "* Посмотрим на метрики качества на тестовой выборке"
      ]
    },
    {
      "metadata": {
        "id": "8q4VWjgSIphZ",
        "colab_type": "code",
        "colab": {
          "autoexec": {
            "startup": false,
            "wait_interval": 0
          }
        }
      },
      "cell_type": "code",
      "source": [
        "predictions = clf.predict(test_data.text)"
      ],
      "execution_count": 0,
      "outputs": []
    },
    {
      "metadata": {
        "id": "pih0pS9KIphc",
        "colab_type": "code",
        "colab": {
          "autoexec": {
            "startup": false,
            "wait_interval": 0
          }
        }
      },
      "cell_type": "code",
      "source": [
        "print(\"Precision: {0:6.5f}\".format(precision_score(test_data.lang, predictions, average='macro')))\n",
        "print(\"Recall: {0:6.5f}\".format(recall_score(test_data.lang, predictions, average='macro')))\n",
        "print(\"F1-measure: {0:6.5f}\".format(f1_score(test_data.lang, predictions, average='macro')))\n",
        "print(\"Accuracy: {0:6.5f}\".format(accuracy_score(test_data.lang, predictions)))"
      ],
      "execution_count": 0,
      "outputs": []
    },
    {
      "metadata": {
        "id": "T430WM7gIphf",
        "colab_type": "text"
      },
      "cell_type": "markdown",
      "source": [
        "* Постройте диаграмму ошибок"
      ]
    },
    {
      "metadata": {
        "id": "63taWhvzIphf",
        "colab_type": "code",
        "colab": {
          "autoexec": {
            "startup": false,
            "wait_interval": 0
          }
        }
      },
      "cell_type": "code",
      "source": [
        "from sklearn.metrics import confusion_matrix\n",
        "plt.figure(figsize=(20, 10))\n",
        "sns.heatmap(data=confusion_matrix(test_data.lang, predictions), annot=True, cbar=False, xticklabels=langs, yticklabels=langs)\n",
        "plt.title(\"Confusion matrix\")\n",
        "plt.show()"
      ],
      "execution_count": 0,
      "outputs": []
    },
    {
      "metadata": {
        "id": "vYmqbpbIIphi",
        "colab_type": "text"
      },
      "cell_type": "markdown",
      "source": [
        "##  Часть 3. Продвинутые методы классфикации\n",
        "\n",
        "\n",
        "Используйте FastText. Постройте диаграмму ошибок. Какие языке труднее всего разлечить? Какие проще всего?\n",
        "\n",
        "Как использовать FastText: https://pypi.python.org/pypi/fasttext.\n",
        "\n",
        "Хороший туториал: https://www.tutorialkart.com/fasttext/train-and-test-supervised-text-classifier-using-fasttext/."
      ]
    },
    {
      "metadata": {
        "id": "nJhg-ODtIphj",
        "colab_type": "text"
      },
      "cell_type": "markdown",
      "source": [
        "* Структура файла, который принимает fasttext должна быть следующего вида:\n",
        "\n",
        "\\_\\_label__ru Привет. Доброе утро. Пути народаа.\n",
        "\n",
        "где \"ru\" метка текста \"Привет. Доброе утро. Пути народаа.\"\n",
        "\n",
        "Несколько меток для одного текста можно задать так:\n",
        "\n",
        "\\_\\_label\\_\\_ru \\_\\_label\\_\\_en Good Morning. Дороу."
      ]
    },
    {
      "metadata": {
        "id": "IajL2lE1Iphk",
        "colab_type": "text"
      },
      "cell_type": "markdown",
      "source": [
        "* Подготовьте данные для fasttext"
      ]
    },
    {
      "metadata": {
        "id": "hxbZ9E_9Iphk",
        "colab_type": "code",
        "colab": {
          "autoexec": {
            "startup": false,
            "wait_interval": 0
          }
        }
      },
      "cell_type": "code",
      "source": [
        "def prc_for_fasttext(data, file_name):\n",
        "    <your code here>"
      ],
      "execution_count": 0,
      "outputs": []
    },
    {
      "metadata": {
        "id": "BDzyiLD-Iphn",
        "colab_type": "text"
      },
      "cell_type": "markdown",
      "source": [
        "* Чтобы обучить модель, используем следующую команду"
      ]
    },
    {
      "metadata": {
        "id": "CjECAv0EIphn",
        "colab_type": "code",
        "colab": {
          "autoexec": {
            "startup": false,
            "wait_interval": 0
          },
          "base_uri": "https://localhost:8080/",
          "height": 51
        },
        "outputId": "85208fe5-a289-481f-c416-0eb2b07f5708",
        "executionInfo": {
          "status": "ok",
          "timestamp": 1524886145510,
          "user_tz": -240,
          "elapsed": 71479,
          "user": {
            "displayName": "Антон Александрович",
            "photoUrl": "https://lh3.googleusercontent.com/a/default-user=s128",
            "userId": "114534192163284934370"
          }
        }
      },
      "cell_type": "code",
      "source": [
        "%%time\n",
        "prc_for_fasttext(train_data, \"train_data_ft.txt\")\n",
        "ftclf = fasttext.supervised(\"train_data_ft.txt\", \"model\")"
      ],
      "execution_count": 96,
      "outputs": [
        {
          "output_type": "stream",
          "text": [
            "CPU times: user 1min 45s, sys: 6.2 s, total: 1min 51s\n",
            "Wall time: 1min 10s\n"
          ],
          "name": "stdout"
        }
      ]
    },
    {
      "metadata": {
        "id": "rjF24h-_Iphr",
        "colab_type": "text"
      },
      "cell_type": "markdown",
      "source": [
        "* Протестируем на тестовых данных:"
      ]
    },
    {
      "metadata": {
        "id": "ACClv0x7Iphr",
        "colab_type": "code",
        "colab": {
          "autoexec": {
            "startup": false,
            "wait_interval": 0
          }
        }
      },
      "cell_type": "code",
      "source": [
        "prc_for_fasttext(test_data, \"test_data_ft.txt\")"
      ],
      "execution_count": 0,
      "outputs": []
    },
    {
      "metadata": {
        "id": "aOU4Jb4BIphu",
        "colab_type": "code",
        "colab": {
          "autoexec": {
            "startup": false,
            "wait_interval": 0
          }
        }
      },
      "cell_type": "code",
      "source": [
        "result = ftclf.test(\"test_data_ft.txt\")"
      ],
      "execution_count": 0,
      "outputs": []
    },
    {
      "metadata": {
        "id": "3cBCMrNxIphx",
        "colab_type": "code",
        "colab": {
          "autoexec": {
            "startup": false,
            "wait_interval": 0
          },
          "base_uri": "https://localhost:8080/",
          "height": 51
        },
        "outputId": "cc2f2054-a7de-44bd-8a1e-4e0b613c4d4e",
        "executionInfo": {
          "status": "ok",
          "timestamp": 1524886208474,
          "user_tz": -240,
          "elapsed": 596,
          "user": {
            "displayName": "Антон Александрович",
            "photoUrl": "https://lh3.googleusercontent.com/a/default-user=s128",
            "userId": "114534192163284934370"
          }
        }
      },
      "cell_type": "code",
      "source": [
        "print(\"Precision: {0:6.5f}\".format(result.precision))\n",
        "print(\"Recall: {0:6.5f}\".format(result.recall))"
      ],
      "execution_count": 99,
      "outputs": [
        {
          "output_type": "stream",
          "text": [
            "Precision: 0.99618\n",
            "Recall: 0.99618\n"
          ],
          "name": "stdout"
        }
      ]
    },
    {
      "metadata": {
        "id": "nCuJzU31Iphz",
        "colab_type": "text"
      },
      "cell_type": "markdown",
      "source": [
        "* Постройте диаграмму ошибок"
      ]
    },
    {
      "metadata": {
        "id": "2nJAOq4-Iph0",
        "colab_type": "code",
        "colab": {
          "autoexec": {
            "startup": false,
            "wait_interval": 0
          }
        }
      },
      "cell_type": "code",
      "source": [
        "predictions = ftclf.predict(test_data.text.tolist())"
      ],
      "execution_count": 0,
      "outputs": []
    },
    {
      "metadata": {
        "id": "8tVLm0ljIph3",
        "colab_type": "code",
        "colab": {
          "autoexec": {
            "startup": false,
            "wait_interval": 0
          }
        }
      },
      "cell_type": "code",
      "source": [
        "plt.figure(figsize=(20, 10))\n",
        "sns.heatmap(data=confusion_matrix(test_data.lang, predictions), annot=True, cbar=False, xticklabels=langs, yticklabels=langs)\n",
        "plt.title(\"Confusion matrix\")\n",
        "plt.show()"
      ],
      "execution_count": 0,
      "outputs": []
    }
  ]
}